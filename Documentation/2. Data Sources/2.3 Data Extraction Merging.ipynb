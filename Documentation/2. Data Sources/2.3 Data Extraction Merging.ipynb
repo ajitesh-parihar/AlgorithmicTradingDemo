{
 "cells": [
  {
   "cell_type": "markdown",
   "id": "81422b53-a4e1-429e-ba5f-4a5c8ed026f8",
   "metadata": {},
   "source": [
    "# Data Extraction and Merging process"
   ]
  },
  {
   "cell_type": "markdown",
   "id": "2599ff00",
   "metadata": {
    "id": "2599ff00"
   },
   "source": [
    "**The purpose of this Juputer notebook is to centralized the codes made to extract, prepare, transform the data obtained from the sources to get the final dataframe used to train and test the machine learning algorithms utilized in the project.**\n"
   ]
  },
  {
   "cell_type": "markdown",
   "id": "629e32e2-94c8-46b6-a216-8ebae4d68647",
   "metadata": {},
   "source": [
    "There are 2 sources to get all variables in the dataset.\n",
    "1. Yahoo Finance\n",
    "2. Provided by Albert"
   ]
  },
  {
   "cell_type": "markdown",
   "id": "jxnOCZAclv24",
   "metadata": {
    "id": "jxnOCZAclv24"
   },
   "source": [
    "# Data Source for demographics\n"
   ]
  },
  {
   "cell_type": "markdown",
   "id": "ebad4078-8971-45b8-ab66-7c41366193a9",
   "metadata": {
    "tags": []
   },
   "source": [
    "The data source for demographic data used in this project was Yahoo Finance. "
   ]
  },
  {
   "cell_type": "markdown",
   "id": "8e7fa88f",
   "metadata": {
    "id": "8e7fa88f"
   },
   "source": [
    "We will be using the yfinance library to retrieve the necessary demographics for each company from Yahoo Finance"
   ]
  },
  {
   "cell_type": "code",
   "execution_count": 1,
   "id": "3eba81cf",
   "metadata": {
    "id": "3eba81cf"
   },
   "outputs": [],
   "source": [
    "import yfinance as yf\n",
    "import pandas as pd\n",
    "import numpy as np"
   ]
  },
  {
   "cell_type": "markdown",
   "id": "4fdaebeb",
   "metadata": {
    "id": "4fdaebeb"
   },
   "source": [
    "We create a list of the tickers of the stocks that we wish to make API calls to. This simplifies the process of retrieving the values"
   ]
  },
  {
   "cell_type": "code",
   "execution_count": 2,
   "id": "dae349bb",
   "metadata": {
    "id": "dae349bb"
   },
   "outputs": [],
   "source": [
    "tickers = ['aapl', 'amd', 'amzn', 'ba', 'baba', 'bac', 'c', 'csco', 'cvx', 'dis', 'f', 'ge',\n",
    "           'googl', 'ibm', 'intc', 'jnj', 'jpm', 'ko', 'mcd', 'meta', 'msft', 'nflx', 'nvda',\n",
    "           'pfe', 'pltr', 't', 'tsla', 'vz', 'wmt', 'xom']"
   ]
  },
  {
   "cell_type": "markdown",
   "id": "2546c9f0",
   "metadata": {
    "id": "2546c9f0"
   },
   "source": [
    "Since we will be calling all the available information from yfinance using .info, we will need to fitler it down. We can achieve this by creating a function to help us"
   ]
  },
  {
   "cell_type": "code",
   "execution_count": 3,
   "id": "5ba80c91",
   "metadata": {
    "id": "5ba80c91"
   },
   "outputs": [],
   "source": [
    "def extract_demographics(x, to_extract):\n",
    "    # Given a dictionary and a list of keys to extract, will return as a dictionary\n",
    "    # if the value does not exist on the yahoo finance site, np.nan will fill the value\n",
    "    result_dict = {key: x.get(key, np.nan) for key in to_extract}\n",
    "    return result_dict"
   ]
  },
  {
   "cell_type": "markdown",
   "id": "7d352cb3",
   "metadata": {
    "id": "7d352cb3"
   },
   "source": [
    "Define the ratios and demographics we wish to extract from the yfinance .info function"
   ]
  },
  {
   "cell_type": "code",
   "execution_count": 4,
   "id": "73d67cfb",
   "metadata": {
    "id": "73d67cfb"
   },
   "outputs": [],
   "source": [
    "ratios_to_extract = ['symbol', 'sector', 'trailingPE' , 'priceToBook', 'debtToEquity', 'freeCashflow',\n",
    "                     'pegRatio' , 'returnOnEquity']"
   ]
  },
  {
   "cell_type": "markdown",
   "id": "46e015cd",
   "metadata": {
    "id": "46e015cd"
   },
   "source": [
    "Prepare the results dataframe to concat each result onto"
   ]
  },
  {
   "cell_type": "code",
   "execution_count": 5,
   "id": "f00bb6f1",
   "metadata": {
    "id": "f00bb6f1"
   },
   "outputs": [],
   "source": [
    "demographic_df = pd.DataFrame()"
   ]
  },
  {
   "cell_type": "markdown",
   "id": "0e6af038",
   "metadata": {
    "id": "0e6af038"
   },
   "source": [
    "We create a for loop now to complete the task of retrieving all the ratios and demographics for the companies we wish to know about:\n",
    "\n",
    "- Step 1: Retrieve the yf.Ticker info for the stock (This will retrieve all available information)\n",
    "- Step 2: Apply the extract_demographics function to keep only the ratios and demographics we are interested in\n",
    "- Step 3: Convert the dictionary of values we wish to keep into a dataframe\n",
    "- Step 4: Concatenate the results of this onto our final demographic_df dataframe"
   ]
  },
  {
   "cell_type": "code",
   "execution_count": 9,
   "id": "c3b0d505",
   "metadata": {
    "id": "c3b0d505"
   },
   "outputs": [],
   "source": [
    "for i in range(len(tickers)):\n",
    "    temp_ticker = yf.Ticker(tickers[i]).info\n",
    "    temp_row = extract_demographics(temp_ticker, ratios_to_extract)\n",
    "    temp_df  = pd.DataFrame([temp_row])\n",
    "    demographic_df = pd.concat([demographic_df, temp_df],ignore_index=True)\n",
    "# As for 4-11-2023 the demographic scarpping is unavaiable due to an error with the yahoo finance API, no solution has been found yet but updates maybe found in the next page : https://github.com/ranaroussi/yfinance/issues/1729"
   ]
  },
  {
   "cell_type": "code",
   "execution_count": 10,
   "id": "8e0ac4bf",
   "metadata": {
    "id": "8e0ac4bf",
    "outputId": "9712da10-6cf9-417e-80bc-402a23f8d86f"
   },
   "outputs": [
    {
     "data": {
      "text/html": [
       "<div>\n",
       "<style scoped>\n",
       "    .dataframe tbody tr th:only-of-type {\n",
       "        vertical-align: middle;\n",
       "    }\n",
       "\n",
       "    .dataframe tbody tr th {\n",
       "        vertical-align: top;\n",
       "    }\n",
       "\n",
       "    .dataframe thead th {\n",
       "        text-align: right;\n",
       "    }\n",
       "</style>\n",
       "<table border=\"1\" class=\"dataframe\">\n",
       "  <thead>\n",
       "    <tr style=\"text-align: right;\">\n",
       "      <th></th>\n",
       "      <th>symbol</th>\n",
       "      <th>sector</th>\n",
       "      <th>trailingPE</th>\n",
       "      <th>priceToBook</th>\n",
       "      <th>debtToEquity</th>\n",
       "      <th>freeCashflow</th>\n",
       "      <th>pegRatio</th>\n",
       "      <th>returnOnEquity</th>\n",
       "    </tr>\n",
       "  </thead>\n",
       "  <tbody>\n",
       "    <tr>\n",
       "      <th>0</th>\n",
       "      <td>AAPL</td>\n",
       "      <td>Technology</td>\n",
       "      <td>32.609642</td>\n",
       "      <td>43.349182</td>\n",
       "      <td>140.968</td>\n",
       "      <td>8.472687e+10</td>\n",
       "      <td>3.57</td>\n",
       "      <td>1.47250</td>\n",
       "    </tr>\n",
       "    <tr>\n",
       "      <th>1</th>\n",
       "      <td>AMD</td>\n",
       "      <td>Technology</td>\n",
       "      <td>231.114290</td>\n",
       "      <td>4.657818</td>\n",
       "      <td>5.335</td>\n",
       "      <td>2.385500e+09</td>\n",
       "      <td>1.53</td>\n",
       "      <td>0.02013</td>\n",
       "    </tr>\n",
       "    <tr>\n",
       "      <th>2</th>\n",
       "      <td>AMZN</td>\n",
       "      <td>Consumer Cyclical</td>\n",
       "      <td>52.275284</td>\n",
       "      <td>8.935516</td>\n",
       "      <td>74.107</td>\n",
       "      <td>5.726975e+10</td>\n",
       "      <td>1.53</td>\n",
       "      <td>0.20305</td>\n",
       "    </tr>\n",
       "    <tr>\n",
       "      <th>3</th>\n",
       "      <td>BA</td>\n",
       "      <td>Industrials</td>\n",
       "      <td>NaN</td>\n",
       "      <td>NaN</td>\n",
       "      <td>NaN</td>\n",
       "      <td>3.065250e+09</td>\n",
       "      <td>-0.51</td>\n",
       "      <td>NaN</td>\n",
       "    </tr>\n",
       "    <tr>\n",
       "      <th>4</th>\n",
       "      <td>BABA</td>\n",
       "      <td>Consumer Cyclical</td>\n",
       "      <td>16.897726</td>\n",
       "      <td>0.183409</td>\n",
       "      <td>18.481</td>\n",
       "      <td>1.227309e+11</td>\n",
       "      <td>54.20</td>\n",
       "      <td>0.06382</td>\n",
       "    </tr>\n",
       "    <tr>\n",
       "      <th>5</th>\n",
       "      <td>BAC</td>\n",
       "      <td>Financial Services</td>\n",
       "      <td>13.789656</td>\n",
       "      <td>1.186471</td>\n",
       "      <td>NaN</td>\n",
       "      <td>NaN</td>\n",
       "      <td>1.48</td>\n",
       "      <td>0.08724</td>\n",
       "    </tr>\n",
       "    <tr>\n",
       "      <th>6</th>\n",
       "      <td>C</td>\n",
       "      <td>Financial Services</td>\n",
       "      <td>17.673470</td>\n",
       "      <td>0.611841</td>\n",
       "      <td>NaN</td>\n",
       "      <td>NaN</td>\n",
       "      <td>1.05</td>\n",
       "      <td>0.03909</td>\n",
       "    </tr>\n",
       "    <tr>\n",
       "      <th>7</th>\n",
       "      <td>CSCO</td>\n",
       "      <td>Technology</td>\n",
       "      <td>15.783784</td>\n",
       "      <td>4.114850</td>\n",
       "      <td>72.570</td>\n",
       "      <td>1.441238e+10</td>\n",
       "      <td>8.59</td>\n",
       "      <td>0.27517</td>\n",
       "    </tr>\n",
       "    <tr>\n",
       "      <th>8</th>\n",
       "      <td>CVX</td>\n",
       "      <td>Energy</td>\n",
       "      <td>14.410304</td>\n",
       "      <td>1.801184</td>\n",
       "      <td>13.507</td>\n",
       "      <td>1.477313e+10</td>\n",
       "      <td>2.57</td>\n",
       "      <td>0.12641</td>\n",
       "    </tr>\n",
       "    <tr>\n",
       "      <th>9</th>\n",
       "      <td>DIS</td>\n",
       "      <td>Communication Services</td>\n",
       "      <td>110.695650</td>\n",
       "      <td>1.873609</td>\n",
       "      <td>44.620</td>\n",
       "      <td>8.282375e+09</td>\n",
       "      <td>1.36</td>\n",
       "      <td>0.02716</td>\n",
       "    </tr>\n",
       "    <tr>\n",
       "      <th>10</th>\n",
       "      <td>F</td>\n",
       "      <td>Consumer Cyclical</td>\n",
       "      <td>12.309278</td>\n",
       "      <td>1.111939</td>\n",
       "      <td>352.992</td>\n",
       "      <td>-1.755250e+09</td>\n",
       "      <td>-2.58</td>\n",
       "      <td>0.09401</td>\n",
       "    </tr>\n",
       "    <tr>\n",
       "      <th>11</th>\n",
       "      <td>GE</td>\n",
       "      <td>Industrials</td>\n",
       "      <td>43.535620</td>\n",
       "      <td>6.049496</td>\n",
       "      <td>72.125</td>\n",
       "      <td>6.139125e+09</td>\n",
       "      <td>1.35</td>\n",
       "      <td>0.13635</td>\n",
       "    </tr>\n",
       "    <tr>\n",
       "      <th>12</th>\n",
       "      <td>GOOGL</td>\n",
       "      <td>Communication Services</td>\n",
       "      <td>27.081413</td>\n",
       "      <td>7.453600</td>\n",
       "      <td>9.690</td>\n",
       "      <td>5.506413e+10</td>\n",
       "      <td>1.17</td>\n",
       "      <td>0.29764</td>\n",
       "    </tr>\n",
       "    <tr>\n",
       "      <th>13</th>\n",
       "      <td>IBM</td>\n",
       "      <td>Technology</td>\n",
       "      <td>19.718820</td>\n",
       "      <td>6.868336</td>\n",
       "      <td>269.451</td>\n",
       "      <td>1.102738e+10</td>\n",
       "      <td>6.19</td>\n",
       "      <td>0.36240</td>\n",
       "    </tr>\n",
       "    <tr>\n",
       "      <th>14</th>\n",
       "      <td>INTC</td>\n",
       "      <td>Technology</td>\n",
       "      <td>31.567010</td>\n",
       "      <td>1.230015</td>\n",
       "      <td>47.356</td>\n",
       "      <td>-1.483513e+10</td>\n",
       "      <td>0.71</td>\n",
       "      <td>0.03794</td>\n",
       "    </tr>\n",
       "    <tr>\n",
       "      <th>15</th>\n",
       "      <td>JNJ</td>\n",
       "      <td>Healthcare</td>\n",
       "      <td>21.958395</td>\n",
       "      <td>5.079398</td>\n",
       "      <td>48.032</td>\n",
       "      <td>2.429850e+10</td>\n",
       "      <td>3.04</td>\n",
       "      <td>0.24235</td>\n",
       "    </tr>\n",
       "    <tr>\n",
       "      <th>16</th>\n",
       "      <td>JPM</td>\n",
       "      <td>Financial Services</td>\n",
       "      <td>11.989740</td>\n",
       "      <td>1.859945</td>\n",
       "      <td>NaN</td>\n",
       "      <td>NaN</td>\n",
       "      <td>11.38</td>\n",
       "      <td>0.15741</td>\n",
       "    </tr>\n",
       "    <tr>\n",
       "      <th>17</th>\n",
       "      <td>KO</td>\n",
       "      <td>Consumer Defensive</td>\n",
       "      <td>24.971888</td>\n",
       "      <td>10.135289</td>\n",
       "      <td>156.613</td>\n",
       "      <td>1.080775e+10</td>\n",
       "      <td>4.24</td>\n",
       "      <td>0.39315</td>\n",
       "    </tr>\n",
       "    <tr>\n",
       "      <th>18</th>\n",
       "      <td>MCD</td>\n",
       "      <td>Consumer Cyclical</td>\n",
       "      <td>21.581633</td>\n",
       "      <td>NaN</td>\n",
       "      <td>NaN</td>\n",
       "      <td>6.313612e+09</td>\n",
       "      <td>3.55</td>\n",
       "      <td>NaN</td>\n",
       "    </tr>\n",
       "    <tr>\n",
       "      <th>19</th>\n",
       "      <td>META</td>\n",
       "      <td>Communication Services</td>\n",
       "      <td>28.866516</td>\n",
       "      <td>8.512191</td>\n",
       "      <td>25.168</td>\n",
       "      <td>3.513213e+10</td>\n",
       "      <td>0.95</td>\n",
       "      <td>0.33361</td>\n",
       "    </tr>\n",
       "    <tr>\n",
       "      <th>20</th>\n",
       "      <td>MSFT</td>\n",
       "      <td>Technology</td>\n",
       "      <td>38.555363</td>\n",
       "      <td>13.086500</td>\n",
       "      <td>41.963</td>\n",
       "      <td>6.199800e+10</td>\n",
       "      <td>2.69</td>\n",
       "      <td>0.38488</td>\n",
       "    </tr>\n",
       "    <tr>\n",
       "      <th>21</th>\n",
       "      <td>NFLX</td>\n",
       "      <td>Communication Services</td>\n",
       "      <td>47.154865</td>\n",
       "      <td>13.696749</td>\n",
       "      <td>77.282</td>\n",
       "      <td>1.951839e+10</td>\n",
       "      <td>1.62</td>\n",
       "      <td>0.29796</td>\n",
       "    </tr>\n",
       "    <tr>\n",
       "      <th>22</th>\n",
       "      <td>NVDA</td>\n",
       "      <td>Technology</td>\n",
       "      <td>76.479530</td>\n",
       "      <td>65.455450</td>\n",
       "      <td>22.866</td>\n",
       "      <td>2.902375e+10</td>\n",
       "      <td>1.25</td>\n",
       "      <td>1.15658</td>\n",
       "    </tr>\n",
       "    <tr>\n",
       "      <th>23</th>\n",
       "      <td>PFE</td>\n",
       "      <td>Healthcare</td>\n",
       "      <td>NaN</td>\n",
       "      <td>1.703512</td>\n",
       "      <td>75.522</td>\n",
       "      <td>3.464875e+09</td>\n",
       "      <td>0.96</td>\n",
       "      <td>-0.00262</td>\n",
       "    </tr>\n",
       "    <tr>\n",
       "      <th>24</th>\n",
       "      <td>PLTR</td>\n",
       "      <td>Technology</td>\n",
       "      <td>213.000000</td>\n",
       "      <td>15.079645</td>\n",
       "      <td>5.622</td>\n",
       "      <td>5.596758e+08</td>\n",
       "      <td>0.92</td>\n",
       "      <td>0.09132</td>\n",
       "    </tr>\n",
       "    <tr>\n",
       "      <th>25</th>\n",
       "      <td>T</td>\n",
       "      <td>Communication Services</td>\n",
       "      <td>9.736560</td>\n",
       "      <td>1.242112</td>\n",
       "      <td>126.105</td>\n",
       "      <td>1.897100e+10</td>\n",
       "      <td>7.72</td>\n",
       "      <td>0.13035</td>\n",
       "    </tr>\n",
       "    <tr>\n",
       "      <th>26</th>\n",
       "      <td>TSLA</td>\n",
       "      <td>Consumer Cyclical</td>\n",
       "      <td>46.318880</td>\n",
       "      <td>8.993958</td>\n",
       "      <td>15.206</td>\n",
       "      <td>-6.331250e+08</td>\n",
       "      <td>5.45</td>\n",
       "      <td>0.23736</td>\n",
       "    </tr>\n",
       "    <tr>\n",
       "      <th>27</th>\n",
       "      <td>VZ</td>\n",
       "      <td>Communication Services</td>\n",
       "      <td>15.071161</td>\n",
       "      <td>1.795547</td>\n",
       "      <td>188.845</td>\n",
       "      <td>9.939625e+09</td>\n",
       "      <td>7.79</td>\n",
       "      <td>0.12424</td>\n",
       "    </tr>\n",
       "    <tr>\n",
       "      <th>28</th>\n",
       "      <td>WMT</td>\n",
       "      <td>Consumer Defensive</td>\n",
       "      <td>29.188843</td>\n",
       "      <td>6.733664</td>\n",
       "      <td>75.363</td>\n",
       "      <td>7.845000e+09</td>\n",
       "      <td>3.41</td>\n",
       "      <td>0.23464</td>\n",
       "    </tr>\n",
       "    <tr>\n",
       "      <th>29</th>\n",
       "      <td>XOM</td>\n",
       "      <td>Energy</td>\n",
       "      <td>13.693627</td>\n",
       "      <td>2.146617</td>\n",
       "      <td>18.981</td>\n",
       "      <td>2.643587e+10</td>\n",
       "      <td>2.09</td>\n",
       "      <td>0.16248</td>\n",
       "    </tr>\n",
       "    <tr>\n",
       "      <th>30</th>\n",
       "      <td>AAPL</td>\n",
       "      <td>Technology</td>\n",
       "      <td>32.609642</td>\n",
       "      <td>43.349182</td>\n",
       "      <td>140.968</td>\n",
       "      <td>8.472687e+10</td>\n",
       "      <td>3.57</td>\n",
       "      <td>1.47250</td>\n",
       "    </tr>\n",
       "    <tr>\n",
       "      <th>31</th>\n",
       "      <td>AMD</td>\n",
       "      <td>Technology</td>\n",
       "      <td>231.114290</td>\n",
       "      <td>4.657818</td>\n",
       "      <td>5.335</td>\n",
       "      <td>2.385500e+09</td>\n",
       "      <td>1.53</td>\n",
       "      <td>0.02013</td>\n",
       "    </tr>\n",
       "    <tr>\n",
       "      <th>32</th>\n",
       "      <td>AMZN</td>\n",
       "      <td>Consumer Cyclical</td>\n",
       "      <td>52.275284</td>\n",
       "      <td>8.935516</td>\n",
       "      <td>74.107</td>\n",
       "      <td>5.726975e+10</td>\n",
       "      <td>1.53</td>\n",
       "      <td>0.20305</td>\n",
       "    </tr>\n",
       "    <tr>\n",
       "      <th>33</th>\n",
       "      <td>BA</td>\n",
       "      <td>Industrials</td>\n",
       "      <td>NaN</td>\n",
       "      <td>NaN</td>\n",
       "      <td>NaN</td>\n",
       "      <td>3.065250e+09</td>\n",
       "      <td>-0.51</td>\n",
       "      <td>NaN</td>\n",
       "    </tr>\n",
       "    <tr>\n",
       "      <th>34</th>\n",
       "      <td>BABA</td>\n",
       "      <td>Consumer Cyclical</td>\n",
       "      <td>16.897726</td>\n",
       "      <td>0.183409</td>\n",
       "      <td>18.481</td>\n",
       "      <td>1.227309e+11</td>\n",
       "      <td>54.20</td>\n",
       "      <td>0.06382</td>\n",
       "    </tr>\n",
       "    <tr>\n",
       "      <th>35</th>\n",
       "      <td>BAC</td>\n",
       "      <td>Financial Services</td>\n",
       "      <td>13.789656</td>\n",
       "      <td>1.186471</td>\n",
       "      <td>NaN</td>\n",
       "      <td>NaN</td>\n",
       "      <td>1.48</td>\n",
       "      <td>0.08724</td>\n",
       "    </tr>\n",
       "    <tr>\n",
       "      <th>36</th>\n",
       "      <td>C</td>\n",
       "      <td>Financial Services</td>\n",
       "      <td>17.673470</td>\n",
       "      <td>0.611841</td>\n",
       "      <td>NaN</td>\n",
       "      <td>NaN</td>\n",
       "      <td>1.05</td>\n",
       "      <td>0.03909</td>\n",
       "    </tr>\n",
       "    <tr>\n",
       "      <th>37</th>\n",
       "      <td>CSCO</td>\n",
       "      <td>Technology</td>\n",
       "      <td>15.783784</td>\n",
       "      <td>4.114850</td>\n",
       "      <td>72.570</td>\n",
       "      <td>1.441238e+10</td>\n",
       "      <td>8.59</td>\n",
       "      <td>0.27517</td>\n",
       "    </tr>\n",
       "    <tr>\n",
       "      <th>38</th>\n",
       "      <td>CVX</td>\n",
       "      <td>Energy</td>\n",
       "      <td>14.410304</td>\n",
       "      <td>1.801184</td>\n",
       "      <td>13.507</td>\n",
       "      <td>1.477313e+10</td>\n",
       "      <td>2.57</td>\n",
       "      <td>0.12641</td>\n",
       "    </tr>\n",
       "    <tr>\n",
       "      <th>39</th>\n",
       "      <td>DIS</td>\n",
       "      <td>Communication Services</td>\n",
       "      <td>110.695650</td>\n",
       "      <td>1.873609</td>\n",
       "      <td>44.620</td>\n",
       "      <td>8.282375e+09</td>\n",
       "      <td>1.36</td>\n",
       "      <td>0.02716</td>\n",
       "    </tr>\n",
       "    <tr>\n",
       "      <th>40</th>\n",
       "      <td>F</td>\n",
       "      <td>Consumer Cyclical</td>\n",
       "      <td>12.309278</td>\n",
       "      <td>1.111939</td>\n",
       "      <td>352.992</td>\n",
       "      <td>-1.755250e+09</td>\n",
       "      <td>-2.58</td>\n",
       "      <td>0.09401</td>\n",
       "    </tr>\n",
       "    <tr>\n",
       "      <th>41</th>\n",
       "      <td>GE</td>\n",
       "      <td>Industrials</td>\n",
       "      <td>43.535620</td>\n",
       "      <td>6.049496</td>\n",
       "      <td>72.125</td>\n",
       "      <td>6.139125e+09</td>\n",
       "      <td>1.35</td>\n",
       "      <td>0.13635</td>\n",
       "    </tr>\n",
       "    <tr>\n",
       "      <th>42</th>\n",
       "      <td>GOOGL</td>\n",
       "      <td>Communication Services</td>\n",
       "      <td>27.081413</td>\n",
       "      <td>7.453600</td>\n",
       "      <td>9.690</td>\n",
       "      <td>5.506413e+10</td>\n",
       "      <td>1.17</td>\n",
       "      <td>0.29764</td>\n",
       "    </tr>\n",
       "    <tr>\n",
       "      <th>43</th>\n",
       "      <td>IBM</td>\n",
       "      <td>Technology</td>\n",
       "      <td>19.718820</td>\n",
       "      <td>6.868336</td>\n",
       "      <td>269.451</td>\n",
       "      <td>1.102738e+10</td>\n",
       "      <td>6.19</td>\n",
       "      <td>0.36240</td>\n",
       "    </tr>\n",
       "    <tr>\n",
       "      <th>44</th>\n",
       "      <td>INTC</td>\n",
       "      <td>Technology</td>\n",
       "      <td>31.567010</td>\n",
       "      <td>1.230015</td>\n",
       "      <td>47.356</td>\n",
       "      <td>-1.483513e+10</td>\n",
       "      <td>0.71</td>\n",
       "      <td>0.03794</td>\n",
       "    </tr>\n",
       "    <tr>\n",
       "      <th>45</th>\n",
       "      <td>JNJ</td>\n",
       "      <td>Healthcare</td>\n",
       "      <td>21.958395</td>\n",
       "      <td>5.079398</td>\n",
       "      <td>48.032</td>\n",
       "      <td>2.429850e+10</td>\n",
       "      <td>3.04</td>\n",
       "      <td>0.24235</td>\n",
       "    </tr>\n",
       "    <tr>\n",
       "      <th>46</th>\n",
       "      <td>JPM</td>\n",
       "      <td>Financial Services</td>\n",
       "      <td>11.989740</td>\n",
       "      <td>1.859945</td>\n",
       "      <td>NaN</td>\n",
       "      <td>NaN</td>\n",
       "      <td>11.38</td>\n",
       "      <td>0.15741</td>\n",
       "    </tr>\n",
       "    <tr>\n",
       "      <th>47</th>\n",
       "      <td>KO</td>\n",
       "      <td>Consumer Defensive</td>\n",
       "      <td>24.971888</td>\n",
       "      <td>10.135289</td>\n",
       "      <td>156.613</td>\n",
       "      <td>1.080775e+10</td>\n",
       "      <td>4.24</td>\n",
       "      <td>0.39315</td>\n",
       "    </tr>\n",
       "    <tr>\n",
       "      <th>48</th>\n",
       "      <td>MCD</td>\n",
       "      <td>Consumer Cyclical</td>\n",
       "      <td>21.581633</td>\n",
       "      <td>NaN</td>\n",
       "      <td>NaN</td>\n",
       "      <td>6.313612e+09</td>\n",
       "      <td>3.55</td>\n",
       "      <td>NaN</td>\n",
       "    </tr>\n",
       "    <tr>\n",
       "      <th>49</th>\n",
       "      <td>META</td>\n",
       "      <td>Communication Services</td>\n",
       "      <td>28.866516</td>\n",
       "      <td>8.512191</td>\n",
       "      <td>25.168</td>\n",
       "      <td>3.513213e+10</td>\n",
       "      <td>0.95</td>\n",
       "      <td>0.33361</td>\n",
       "    </tr>\n",
       "    <tr>\n",
       "      <th>50</th>\n",
       "      <td>MSFT</td>\n",
       "      <td>Technology</td>\n",
       "      <td>38.555363</td>\n",
       "      <td>13.086500</td>\n",
       "      <td>41.963</td>\n",
       "      <td>6.199800e+10</td>\n",
       "      <td>2.69</td>\n",
       "      <td>0.38488</td>\n",
       "    </tr>\n",
       "    <tr>\n",
       "      <th>51</th>\n",
       "      <td>NFLX</td>\n",
       "      <td>Communication Services</td>\n",
       "      <td>47.154865</td>\n",
       "      <td>13.696749</td>\n",
       "      <td>77.282</td>\n",
       "      <td>1.951839e+10</td>\n",
       "      <td>1.62</td>\n",
       "      <td>0.29796</td>\n",
       "    </tr>\n",
       "    <tr>\n",
       "      <th>52</th>\n",
       "      <td>NVDA</td>\n",
       "      <td>Technology</td>\n",
       "      <td>76.479530</td>\n",
       "      <td>65.455450</td>\n",
       "      <td>22.866</td>\n",
       "      <td>2.902375e+10</td>\n",
       "      <td>1.25</td>\n",
       "      <td>1.15658</td>\n",
       "    </tr>\n",
       "    <tr>\n",
       "      <th>53</th>\n",
       "      <td>PFE</td>\n",
       "      <td>Healthcare</td>\n",
       "      <td>NaN</td>\n",
       "      <td>1.703512</td>\n",
       "      <td>75.522</td>\n",
       "      <td>3.464875e+09</td>\n",
       "      <td>0.96</td>\n",
       "      <td>-0.00262</td>\n",
       "    </tr>\n",
       "    <tr>\n",
       "      <th>54</th>\n",
       "      <td>PLTR</td>\n",
       "      <td>Technology</td>\n",
       "      <td>213.000000</td>\n",
       "      <td>15.079645</td>\n",
       "      <td>5.622</td>\n",
       "      <td>5.596758e+08</td>\n",
       "      <td>0.92</td>\n",
       "      <td>0.09132</td>\n",
       "    </tr>\n",
       "    <tr>\n",
       "      <th>55</th>\n",
       "      <td>T</td>\n",
       "      <td>Communication Services</td>\n",
       "      <td>9.736560</td>\n",
       "      <td>1.242112</td>\n",
       "      <td>126.105</td>\n",
       "      <td>1.897100e+10</td>\n",
       "      <td>7.72</td>\n",
       "      <td>0.13035</td>\n",
       "    </tr>\n",
       "    <tr>\n",
       "      <th>56</th>\n",
       "      <td>TSLA</td>\n",
       "      <td>Consumer Cyclical</td>\n",
       "      <td>46.318880</td>\n",
       "      <td>8.993958</td>\n",
       "      <td>15.206</td>\n",
       "      <td>-6.331250e+08</td>\n",
       "      <td>5.45</td>\n",
       "      <td>0.23736</td>\n",
       "    </tr>\n",
       "    <tr>\n",
       "      <th>57</th>\n",
       "      <td>VZ</td>\n",
       "      <td>Communication Services</td>\n",
       "      <td>15.071161</td>\n",
       "      <td>1.795547</td>\n",
       "      <td>188.845</td>\n",
       "      <td>9.939625e+09</td>\n",
       "      <td>7.79</td>\n",
       "      <td>0.12424</td>\n",
       "    </tr>\n",
       "    <tr>\n",
       "      <th>58</th>\n",
       "      <td>WMT</td>\n",
       "      <td>Consumer Defensive</td>\n",
       "      <td>29.188843</td>\n",
       "      <td>6.733664</td>\n",
       "      <td>75.363</td>\n",
       "      <td>7.845000e+09</td>\n",
       "      <td>3.41</td>\n",
       "      <td>0.23464</td>\n",
       "    </tr>\n",
       "    <tr>\n",
       "      <th>59</th>\n",
       "      <td>XOM</td>\n",
       "      <td>Energy</td>\n",
       "      <td>13.693627</td>\n",
       "      <td>2.146617</td>\n",
       "      <td>18.981</td>\n",
       "      <td>2.643587e+10</td>\n",
       "      <td>2.09</td>\n",
       "      <td>0.16248</td>\n",
       "    </tr>\n",
       "  </tbody>\n",
       "</table>\n",
       "</div>"
      ],
      "text/plain": [
       "   symbol                  sector  trailingPE  priceToBook  debtToEquity  \\\n",
       "0    AAPL              Technology   32.609642    43.349182       140.968   \n",
       "1     AMD              Technology  231.114290     4.657818         5.335   \n",
       "2    AMZN       Consumer Cyclical   52.275284     8.935516        74.107   \n",
       "3      BA             Industrials         NaN          NaN           NaN   \n",
       "4    BABA       Consumer Cyclical   16.897726     0.183409        18.481   \n",
       "5     BAC      Financial Services   13.789656     1.186471           NaN   \n",
       "6       C      Financial Services   17.673470     0.611841           NaN   \n",
       "7    CSCO              Technology   15.783784     4.114850        72.570   \n",
       "8     CVX                  Energy   14.410304     1.801184        13.507   \n",
       "9     DIS  Communication Services  110.695650     1.873609        44.620   \n",
       "10      F       Consumer Cyclical   12.309278     1.111939       352.992   \n",
       "11     GE             Industrials   43.535620     6.049496        72.125   \n",
       "12  GOOGL  Communication Services   27.081413     7.453600         9.690   \n",
       "13    IBM              Technology   19.718820     6.868336       269.451   \n",
       "14   INTC              Technology   31.567010     1.230015        47.356   \n",
       "15    JNJ              Healthcare   21.958395     5.079398        48.032   \n",
       "16    JPM      Financial Services   11.989740     1.859945           NaN   \n",
       "17     KO      Consumer Defensive   24.971888    10.135289       156.613   \n",
       "18    MCD       Consumer Cyclical   21.581633          NaN           NaN   \n",
       "19   META  Communication Services   28.866516     8.512191        25.168   \n",
       "20   MSFT              Technology   38.555363    13.086500        41.963   \n",
       "21   NFLX  Communication Services   47.154865    13.696749        77.282   \n",
       "22   NVDA              Technology   76.479530    65.455450        22.866   \n",
       "23    PFE              Healthcare         NaN     1.703512        75.522   \n",
       "24   PLTR              Technology  213.000000    15.079645         5.622   \n",
       "25      T  Communication Services    9.736560     1.242112       126.105   \n",
       "26   TSLA       Consumer Cyclical   46.318880     8.993958        15.206   \n",
       "27     VZ  Communication Services   15.071161     1.795547       188.845   \n",
       "28    WMT      Consumer Defensive   29.188843     6.733664        75.363   \n",
       "29    XOM                  Energy   13.693627     2.146617        18.981   \n",
       "30   AAPL              Technology   32.609642    43.349182       140.968   \n",
       "31    AMD              Technology  231.114290     4.657818         5.335   \n",
       "32   AMZN       Consumer Cyclical   52.275284     8.935516        74.107   \n",
       "33     BA             Industrials         NaN          NaN           NaN   \n",
       "34   BABA       Consumer Cyclical   16.897726     0.183409        18.481   \n",
       "35    BAC      Financial Services   13.789656     1.186471           NaN   \n",
       "36      C      Financial Services   17.673470     0.611841           NaN   \n",
       "37   CSCO              Technology   15.783784     4.114850        72.570   \n",
       "38    CVX                  Energy   14.410304     1.801184        13.507   \n",
       "39    DIS  Communication Services  110.695650     1.873609        44.620   \n",
       "40      F       Consumer Cyclical   12.309278     1.111939       352.992   \n",
       "41     GE             Industrials   43.535620     6.049496        72.125   \n",
       "42  GOOGL  Communication Services   27.081413     7.453600         9.690   \n",
       "43    IBM              Technology   19.718820     6.868336       269.451   \n",
       "44   INTC              Technology   31.567010     1.230015        47.356   \n",
       "45    JNJ              Healthcare   21.958395     5.079398        48.032   \n",
       "46    JPM      Financial Services   11.989740     1.859945           NaN   \n",
       "47     KO      Consumer Defensive   24.971888    10.135289       156.613   \n",
       "48    MCD       Consumer Cyclical   21.581633          NaN           NaN   \n",
       "49   META  Communication Services   28.866516     8.512191        25.168   \n",
       "50   MSFT              Technology   38.555363    13.086500        41.963   \n",
       "51   NFLX  Communication Services   47.154865    13.696749        77.282   \n",
       "52   NVDA              Technology   76.479530    65.455450        22.866   \n",
       "53    PFE              Healthcare         NaN     1.703512        75.522   \n",
       "54   PLTR              Technology  213.000000    15.079645         5.622   \n",
       "55      T  Communication Services    9.736560     1.242112       126.105   \n",
       "56   TSLA       Consumer Cyclical   46.318880     8.993958        15.206   \n",
       "57     VZ  Communication Services   15.071161     1.795547       188.845   \n",
       "58    WMT      Consumer Defensive   29.188843     6.733664        75.363   \n",
       "59    XOM                  Energy   13.693627     2.146617        18.981   \n",
       "\n",
       "    freeCashflow  pegRatio  returnOnEquity  \n",
       "0   8.472687e+10      3.57         1.47250  \n",
       "1   2.385500e+09      1.53         0.02013  \n",
       "2   5.726975e+10      1.53         0.20305  \n",
       "3   3.065250e+09     -0.51             NaN  \n",
       "4   1.227309e+11     54.20         0.06382  \n",
       "5            NaN      1.48         0.08724  \n",
       "6            NaN      1.05         0.03909  \n",
       "7   1.441238e+10      8.59         0.27517  \n",
       "8   1.477313e+10      2.57         0.12641  \n",
       "9   8.282375e+09      1.36         0.02716  \n",
       "10 -1.755250e+09     -2.58         0.09401  \n",
       "11  6.139125e+09      1.35         0.13635  \n",
       "12  5.506413e+10      1.17         0.29764  \n",
       "13  1.102738e+10      6.19         0.36240  \n",
       "14 -1.483513e+10      0.71         0.03794  \n",
       "15  2.429850e+10      3.04         0.24235  \n",
       "16           NaN     11.38         0.15741  \n",
       "17  1.080775e+10      4.24         0.39315  \n",
       "18  6.313612e+09      3.55             NaN  \n",
       "19  3.513213e+10      0.95         0.33361  \n",
       "20  6.199800e+10      2.69         0.38488  \n",
       "21  1.951839e+10      1.62         0.29796  \n",
       "22  2.902375e+10      1.25         1.15658  \n",
       "23  3.464875e+09      0.96        -0.00262  \n",
       "24  5.596758e+08      0.92         0.09132  \n",
       "25  1.897100e+10      7.72         0.13035  \n",
       "26 -6.331250e+08      5.45         0.23736  \n",
       "27  9.939625e+09      7.79         0.12424  \n",
       "28  7.845000e+09      3.41         0.23464  \n",
       "29  2.643587e+10      2.09         0.16248  \n",
       "30  8.472687e+10      3.57         1.47250  \n",
       "31  2.385500e+09      1.53         0.02013  \n",
       "32  5.726975e+10      1.53         0.20305  \n",
       "33  3.065250e+09     -0.51             NaN  \n",
       "34  1.227309e+11     54.20         0.06382  \n",
       "35           NaN      1.48         0.08724  \n",
       "36           NaN      1.05         0.03909  \n",
       "37  1.441238e+10      8.59         0.27517  \n",
       "38  1.477313e+10      2.57         0.12641  \n",
       "39  8.282375e+09      1.36         0.02716  \n",
       "40 -1.755250e+09     -2.58         0.09401  \n",
       "41  6.139125e+09      1.35         0.13635  \n",
       "42  5.506413e+10      1.17         0.29764  \n",
       "43  1.102738e+10      6.19         0.36240  \n",
       "44 -1.483513e+10      0.71         0.03794  \n",
       "45  2.429850e+10      3.04         0.24235  \n",
       "46           NaN     11.38         0.15741  \n",
       "47  1.080775e+10      4.24         0.39315  \n",
       "48  6.313612e+09      3.55             NaN  \n",
       "49  3.513213e+10      0.95         0.33361  \n",
       "50  6.199800e+10      2.69         0.38488  \n",
       "51  1.951839e+10      1.62         0.29796  \n",
       "52  2.902375e+10      1.25         1.15658  \n",
       "53  3.464875e+09      0.96        -0.00262  \n",
       "54  5.596758e+08      0.92         0.09132  \n",
       "55  1.897100e+10      7.72         0.13035  \n",
       "56 -6.331250e+08      5.45         0.23736  \n",
       "57  9.939625e+09      7.79         0.12424  \n",
       "58  7.845000e+09      3.41         0.23464  \n",
       "59  2.643587e+10      2.09         0.16248  "
      ]
     },
     "execution_count": 10,
     "metadata": {},
     "output_type": "execute_result"
    }
   ],
   "source": [
    "demographic_df"
   ]
  },
  {
   "cell_type": "markdown",
   "id": "f2076983",
   "metadata": {
    "id": "f2076983"
   },
   "source": [
    "These values are a snapshot of the current values on yfinance and not a historical capture of the metrics."
   ]
  },
  {
   "cell_type": "markdown",
   "id": "zBIsVfatVWzO",
   "metadata": {
    "id": "zBIsVfatVWzO"
   },
   "source": [
    "# Data Source for commodities"
   ]
  },
  {
   "cell_type": "markdown",
   "id": "8c5xEQeTVbxV",
   "metadata": {
    "id": "8c5xEQeTVbxV"
   },
   "source": [
    "The code for extracting commodity data is currently unavailable. However, the CSV files were directly provided by Albert Wong. You can find these CSV files in the following link: https://www.dropbox.com/scl/fo/n638k3vvnic2pss80zyvq/h?rlkey=3ilmw5fiehotnlqbeneiu249t&dl=0"
   ]
  },
  {
   "cell_type": "code",
   "execution_count": 8,
   "id": "txquz2ZwWLH0",
   "metadata": {
    "id": "txquz2ZwWLH0"
   },
   "outputs": [],
   "source": [
    "import pandas as pd\n",
    "import numpy as np\n",
    "import holidays\n",
    "from functools import reduce"
   ]
  },
  {
   "cell_type": "markdown",
   "id": "zRYOaCinWT3K",
   "metadata": {
    "id": "zRYOaCinWT3K"
   },
   "source": [
    "## Merging the stocks csv files into one table"
   ]
  },
  {
   "cell_type": "code",
   "execution_count": null,
   "id": "ywrVd7OWWX0B",
   "metadata": {
    "id": "ywrVd7OWWX0B"
   },
   "outputs": [],
   "source": [
    "#reading stock data\n",
    "# The csv'S can be found in the next link : https://www.dropbox.com/scl/fo/n638k3vvnic2pss80zyvq/h?rlkey=3ilmw5fiehotnlqbeneiu249t&dl=0\n",
    "aapl = pd.read_csv('stocks/AAPL.csv', delimiter=\";\")\n",
    "amd = pd.read_csv('stocks/AMD.csv', delimiter=\";\")\n",
    "amzn = pd.read_csv('stocks/AMZN.csv', delimiter=\";\")\n",
    "ba = pd.read_csv('stocks/BA.csv', delimiter=\";\")\n",
    "baba = pd.read_csv('stocks/BABA.csv', delimiter=\";\")\n",
    "bac = pd.read_csv('stocks/BAC.csv', delimiter=\";\")\n",
    "c = pd.read_csv('stocks/C.csv', delimiter=\";\")\n",
    "csco = pd.read_csv('stocks/CSCO.csv', delimiter=\";\")\n",
    "cvx = pd.read_csv('stocks/CVX.csv', delimiter=\";\")\n",
    "dis = pd.read_csv('stocks/DIS.csv', delimiter=\";\")\n",
    "f = pd.read_csv('stocks/F.csv', delimiter=\";\")\n",
    "ge = pd.read_csv('stocks/GE.csv', delimiter=\";\")\n",
    "googl = pd.read_csv('stocks/GOOGL.csv', delimiter=\";\")\n",
    "ibm = pd.read_csv('stocks/IBM.csv', delimiter=\";\")\n",
    "intc = pd.read_csv('stocks/INTC.csv', delimiter=\";\")\n",
    "jnj = pd.read_csv('stocks/JNJ.csv', delimiter=\";\")\n",
    "jpm = pd.read_csv('stocks/JPM.csv', delimiter=\";\")\n",
    "ko = pd.read_csv('stocks/KO.csv', delimiter=\";\")\n",
    "mcd = pd.read_csv('stocks/MCD.csv', delimiter=\";\")\n",
    "meta = pd.read_csv('stocks/META.csv', delimiter=\";\")\n",
    "msft = pd.read_csv('stocks/MSFT.csv', delimiter=\";\")\n",
    "nflx = pd.read_csv('stocks/NFLX.csv', delimiter=\";\")7\n",
    "nvda = pd.read_csv('stocks/NVDA.csv', delimiter=\";\")\n",
    "pfe = pd.read_csv('stocks/PFE.csv', delimiter=\";\")\n",
    "pltr = pd.read_csv('stocks/PLTR.csv', delimiter=\";\")\n",
    "t = pd.read_csv('stocks/T.csv', delimiter=\";\")\n",
    "tsla = pd.read_csv('stocks/TSLA.csv', delimiter=\";\")\n",
    "vz = pd.read_csv('stocks/VZ.csv', delimiter=\";\")\n",
    "wmt = pd.read_csv('stocks/WMT.csv', delimiter=\";\")\n",
    "xom = pd.read_csv('stocks/XOM.csv', delimiter=\";\")"
   ]
  },
  {
   "cell_type": "code",
   "execution_count": null,
   "id": "H5QMfanjWeGK",
   "metadata": {
    "id": "H5QMfanjWeGK"
   },
   "outputs": [],
   "source": [
    "# list of stocks to allow for easier cleaning\n",
    "stocks = [aapl, amd, amzn, ba, baba, bac, c, csco, cvx, dis, f, ge, googl, ibm, intc, jnj, jpm, ko, mcd, meta, msft, nflx,\n",
    "          nvda, pfe, pltr, t, tsla, vz, wmt, xom]\n",
    "tickers = [\"AAPL\", \"AMD\", \"AMZN\", \"BA\", \"BABA\", \"BAC\", \"C\", \"CSCO\", \"CVX\", \"DIS\", \"F\", \"GE\", \"GOOGL\", \"IBM\", \"INTC\", \"JNJ\",\n",
    "           \"JPM\", \"KO\", \"MCD\", \"META\", \"MSFT\", \"NFLX\", \"NVDA\", \"PFE\", \"PLTR\", \"T\", \"TSLA\", \"VZ\", \"WMT\", \"XOM\"]"
   ]
  },
  {
   "cell_type": "code",
   "execution_count": null,
   "id": "BOlVhyHRXWVt",
   "metadata": {
    "id": "BOlVhyHRXWVt"
   },
   "outputs": [],
   "source": [
    "for stock, ticker in zip(stocks, tickers):\n",
    "    \"\"\"\n",
    "    Renames the 'Date' column of the stock DataFrame to 'Time' and adds a 'stock_ID' column.\n",
    "\n",
    "    Args:\n",
    "        stock (DataFrame): The stock data to be processed.\n",
    "        ticker (str): The ticker symbol associated with the stock.\n",
    "\n",
    "    Returns:\n",
    "        None. The 'stock' DataFrame is modified in-place.\n",
    "\n",
    "    Example:\n",
    "        stocks = [stock1, stock2, stock3]\n",
    "        tickers = ['AAPL', 'GOOGL', 'MSFT']\n",
    "        for stock, ticker in zip(stocks, tickers):\n",
    "            rename_and_add_columns(stock, ticker)\n",
    "\n",
    "    \"\"\"\n",
    "    stock.rename(columns={'Date': 'Time'}, inplace=True)\n",
    "    stock[\"stock_ID\"] = ticker"
   ]
  },
  {
   "cell_type": "code",
   "execution_count": null,
   "id": "v-GjJ9t2XZeQ",
   "metadata": {
    "id": "v-GjJ9t2XZeQ"
   },
   "outputs": [],
   "source": [
    "for stock in stocks:\n",
    "    stock['DATETIME'] = pd.to_datetime(stock['Time'], format ='%Y-%m-%d %H:%M:%S')"
   ]
  },
  {
   "cell_type": "code",
   "execution_count": null,
   "id": "T95epQvKXceX",
   "metadata": {
    "id": "T95epQvKXceX"
   },
   "outputs": [],
   "source": [
    "aapl.head()"
   ]
  },
  {
   "cell_type": "code",
   "execution_count": null,
   "id": "JZY2WSYnXfKL",
   "metadata": {
    "id": "JZY2WSYnXfKL"
   },
   "outputs": [],
   "source": [
    "stocks_reduced = []\n",
    "for i in range(len(stocks)):\n",
    "    \"\"\"\n",
    "    Filters specific columns from the stock DataFrame and creates a reduced DataFrame.\n",
    "\n",
    "    Args:\n",
    "        stocks (list): A list of stock DataFrames.\n",
    "    \n",
    "    Returns:\n",
    "        list: A list of reduced stock DataFrames.\n",
    "\n",
    "    Example:\n",
    "        stocks = [stock1, stock2, stock3]\n",
    "        stocks_reduced = filter_columns(stocks)\n",
    "    \n",
    "    \"\"\"\n",
    "    stocks_reduced.append(stocks[i].filter([\"stock_ID\", \"Volume\", \"Close\", 'DATETIME']))"
   ]
  },
  {
   "cell_type": "code",
   "execution_count": null,
   "id": "5Cq6SLEyXhlZ",
   "metadata": {
    "id": "5Cq6SLEyXhlZ"
   },
   "outputs": [],
   "source": [
    "for stock in stocks_reduced:\n",
    "    stock[\"Volume\"] = stock[\"Volume\"].shift(1)"
   ]
  },
  {
   "cell_type": "code",
   "execution_count": null,
   "id": "GMhEYesPXjip",
   "metadata": {
    "id": "GMhEYesPXjip"
   },
   "outputs": [],
   "source": [
    "stocks_reduced[0].head()"
   ]
  },
  {
   "cell_type": "markdown",
   "id": "-42b37suXmJy",
   "metadata": {
    "id": "-42b37suXmJy"
   },
   "source": [
    "## Clean Commodities and Bonds"
   ]
  },
  {
   "cell_type": "code",
   "execution_count": null,
   "id": "wcGxzMBAXquq",
   "metadata": {
    "id": "wcGxzMBAXquq"
   },
   "outputs": [],
   "source": [
    "# The csv'S can be found in the next link : https://www.dropbox.com/scl/fo/n638k3vvnic2pss80zyvq/h?rlkey=3ilmw5fiehotnlqbeneiu249t&dl=0\n",
    "us2y = pd.read_csv('commodities/2YTBond.csv', delimiter=\";\")\n",
    "us5y= pd.read_csv('commodities/5YTBond.csv', delimiter=\";\")\n",
    "us10y = pd.read_csv('commodities/10YTBond.csv', delimiter=\";\")\n",
    "dowjones = pd.read_csv('commodities/DowJones.csv', delimiter=\";\")\n",
    "nasdaq = pd.read_csv('commodities/NASDAQ.csv', delimiter=\";\")\n",
    "sp500 = pd.read_csv('commodities/S&P.csv', delimiter=\";\")\n",
    "gold = pd.read_csv('commodities/Gold.csv', delimiter=\";\")\n",
    "oil = pd.read_csv('commodities/Oil.csv', delimiter=\";\")"
   ]
  },
  {
   "cell_type": "code",
   "execution_count": null,
   "id": "dyjV7oWNXtIB",
   "metadata": {
    "id": "dyjV7oWNXtIB"
   },
   "outputs": [],
   "source": [
    "commodities = [us2y, us5y, us10y, dowjones, nasdaq, sp500, gold, oil]"
   ]
  },
  {
   "cell_type": "code",
   "execution_count": null,
   "id": "NY92cyCGXveD",
   "metadata": {
    "id": "NY92cyCGXveD"
   },
   "outputs": [],
   "source": [
    "#rename column Date to Time\n",
    "for commodity in commodities:\n",
    "    commodity.rename(columns={'Date': 'Time'}, inplace=True)"
   ]
  },
  {
   "cell_type": "code",
   "execution_count": null,
   "id": "qpFReBICXyUp",
   "metadata": {
    "id": "qpFReBICXyUp"
   },
   "outputs": [],
   "source": [
    "# change data type \n",
    "for commodity in commodities:\n",
    "    commodity['DATETIME'] = pd.to_datetime(commodity['Time'], format ='%Y-%m-%d %H:%M:%S')"
   ]
  },
  {
   "cell_type": "code",
   "execution_count": null,
   "id": "OkMcfz8UX050",
   "metadata": {
    "id": "OkMcfz8UX050"
   },
   "outputs": [],
   "source": [
    "us2y.head()"
   ]
  },
  {
   "cell_type": "code",
   "execution_count": null,
   "id": "XcdFCxGwX4_K",
   "metadata": {
    "id": "XcdFCxGwX4_K"
   },
   "outputs": [],
   "source": [
    "#move time period back by 15 minutes\n",
    "for commodity in commodities:\n",
    "    commodity['DATETIME'] = commodity['DATETIME'] - pd.Timedelta(minutes=15)"
   ]
  },
  {
   "cell_type": "code",
   "execution_count": null,
   "id": "a1wpxsR0X8b0",
   "metadata": {
    "id": "a1wpxsR0X8b0"
   },
   "outputs": [],
   "source": [
    "us2y.head()"
   ]
  },
  {
   "cell_type": "code",
   "execution_count": null,
   "id": "CUYlVKAnX_VW",
   "metadata": {
    "id": "CUYlVKAnX_VW"
   },
   "outputs": [],
   "source": [
    "Tickers = [\"US2Y\", \"US5Y\", \"US10Y\", 'DJ', \"NQ\", \"SP\", \"Gold\", \"Oil\"]\n",
    "commodities_reduced = []\n",
    "for i in range(len(commodities)):\n",
    "    commodities_reduced.append(commodities[i].filter(['Close', 'DATETIME']).\\\n",
    "                    rename(columns = {'Close' : '{}_PP'.format(Tickers[i])}))"
   ]
  },
  {
   "cell_type": "code",
   "execution_count": null,
   "id": "NsCScon_YB-T",
   "metadata": {
    "id": "NsCScon_YB-T"
   },
   "outputs": [],
   "source": [
    "#use reduce function to merge list of dataframes into singular dataframe on DATETIME_ADJUSTED\n",
    "merge_commodities = reduce(lambda df1,df2: pd.merge(df1,df2,on='DATETIME'), commodities_reduced)"
   ]
  },
  {
   "cell_type": "code",
   "execution_count": null,
   "id": "Nis-rRF6YEef",
   "metadata": {
    "id": "Nis-rRF6YEef"
   },
   "outputs": [],
   "source": [
    "merge_commodities"
   ]
  },
  {
   "cell_type": "code",
   "execution_count": null,
   "id": "o8yW5SXiYItz",
   "metadata": {
    "id": "o8yW5SXiYItz"
   },
   "outputs": [],
   "source": [
    "merged_df = []\n",
    "for stock in stocks_reduced:\n",
    "    merged_df.append(pd.merge(stock, merge_commodities, on=\"DATETIME\"))"
   ]
  },
  {
   "cell_type": "code",
   "execution_count": null,
   "id": "MEif6U5-YLJ3",
   "metadata": {
    "id": "MEif6U5-YLJ3"
   },
   "outputs": [],
   "source": [
    "merged_df[0].head()"
   ]
  },
  {
   "cell_type": "code",
   "execution_count": null,
   "id": "djFb4TsfYP43",
   "metadata": {
    "id": "djFb4TsfYP43"
   },
   "outputs": [],
   "source": [
    "df = reduce(lambda df1,df2: pd.concat([df1,df2]), merged_df)"
   ]
  },
  {
   "cell_type": "code",
   "execution_count": null,
   "id": "_yFezsdwYTE8",
   "metadata": {
    "id": "_yFezsdwYTE8"
   },
   "outputs": [],
   "source": [
    "df.sort_values(by='DATETIME')"
   ]
  },
  {
   "cell_type": "code",
   "execution_count": null,
   "id": "O2VuDXd6YYlS",
   "metadata": {
    "id": "O2VuDXd6YYlS"
   },
   "outputs": [],
   "source": [
    "df['Sector'] = df['stock_ID'].map(lambda x: 'Technology' if x in (\"AAPL\", \"AMD\", \"CSCO\", \"IBM\", \"INTC\", \"MSFT\", \"NVDA\", \"PLTR\")\n",
    "                                  else \"Consumer Cyclical\" if x in (\"AMZN\", \"BABA\", \"F\", \"MCD\", \"TSLA\")\n",
    "                                  else \"Industrial\" if x in (\"BA\", \"GE\")\n",
    "                                  else \"Financial Services\" if x in (\"BAC\", \"C\", \"JPM\")\n",
    "                                  else 'Energy' if x in (\"CVX\", 'XOM')\n",
    "                                  else \"Communication Services\" if x in (\"DIS\", \"GOOGL\", \"META\", \"NFLX\", \"T\", \"VZ\")\n",
    "                                  else \"Healthcare\" if x in (\"JNJ\", \"PFE\")\n",
    "                                  else \"Consumer Defensive\" if x in (\"KO\", \"WMT\")\n",
    "                                  else '')"
   ]
  },
  {
   "cell_type": "code",
   "execution_count": null,
   "id": "smglizPIYan0",
   "metadata": {
    "id": "smglizPIYan0"
   },
   "outputs": [],
   "source": [
    "df"
   ]
  },
  {
   "cell_type": "code",
   "execution_count": null,
   "id": "9RhUJRjQYc-G",
   "metadata": {
    "id": "9RhUJRjQYc-G"
   },
   "outputs": [],
   "source": [
    "df['Sector'].value_counts()"
   ]
  },
  {
   "cell_type": "code",
   "execution_count": null,
   "id": "OEFR-wriYgux",
   "metadata": {
    "id": "OEFR-wriYgux"
   },
   "outputs": [],
   "source": [
    "#create columns for each categorical datetime variable of interest\n",
    "df['DATE']        = df.DATETIME.dt.date\n",
    "df['MONTH']       = df.DATETIME.dt.month\n",
    "df['DAY']         = df.DATETIME.dt.day\n",
    "df['HOUR']        = df.DATETIME.dt.hour\n",
    "df['MINUTE']      = df.DATETIME.dt.minute\n",
    "df['WEEK_DAY']    = df.DATETIME.dt.dayofweek"
   ]
  },
  {
   "cell_type": "code",
   "execution_count": null,
   "id": "G02meHU3YjXH",
   "metadata": {
    "id": "G02meHU3YjXH"
   },
   "outputs": [],
   "source": [
    "# Create holiday flag\n",
    "holiday_days = []\n",
    "for holiday in holidays.US(state = 'NY', years=[2020, 2021, 2022]).items(): holiday_days.append(str(holiday[0]))\n",
    "df['HOLIDAY']=[1 if str(value) in holiday_days else 0 for value in df['DATE']]"
   ]
  },
  {
   "cell_type": "code",
   "execution_count": null,
   "id": "wPraTTYoYmdb",
   "metadata": {
    "id": "wPraTTYoYmdb"
   },
   "outputs": [],
   "source": [
    "# Create pre - post holiday flag\n",
    "df['POSTHOLIDAY_MORNING'], df['PREHOLIDAY_AFTERNON'] = 0, 0\n",
    "\n",
    "id = df.loc[(df.HOLIDAY == 1),:].index\n",
    "POSTHOLIDAY = pd.to_datetime((df.loc[id,'DATE'] + pd.DateOffset(days=1)).unique())\n",
    "PREHOLIDAY  = pd.to_datetime((df.loc[id,'DATE'] - pd.DateOffset(days=1)).unique())\n",
    "\n",
    "for i in range(len(PREHOLIDAY)) : df.loc[(df.DATE == PREHOLIDAY[i]) & (df.HOUR > 12)   , 'PREHOLIDAY_AFTERNON'] =1\n",
    "for i in range(len(POSTHOLIDAY)): df.loc[ (df.DATE == POSTHOLIDAY[i]) & (df.HOUR <= 12), 'POSTHOLIDAY_MORNING'] =1"
   ]
  },
  {
   "cell_type": "code",
   "execution_count": null,
   "id": "dlRaBfTkYpqe",
   "metadata": {
    "id": "dlRaBfTkYpqe"
   },
   "outputs": [],
   "source": [
    "# Create monday morning flag\n",
    "df['MONDAY_MORNING']=0\n",
    "df.loc[(df.WEEK_DAY == 0) & (df.HOUR <= 12), 'MONDAY_MORNING'] =1"
   ]
  },
  {
   "cell_type": "code",
   "execution_count": null,
   "id": "gqdSD6I5YsLy",
   "metadata": {
    "id": "gqdSD6I5YsLy"
   },
   "outputs": [],
   "source": [
    "# Create friday afternoon flag\n",
    "df['FRIDAY_AFTERNOON']=0\n",
    "df.loc[(df.WEEK_DAY == 4) & (df.HOUR > 12), 'FRIDAY_AFTERNOON'] =1"
   ]
  },
  {
   "cell_type": "code",
   "execution_count": null,
   "id": "TGG8DNkDYule",
   "metadata": {
    "id": "TGG8DNkDYule"
   },
   "outputs": [],
   "source": [
    "# Delete holiday days\n",
    "df.drop(df.index[df['HOLIDAY']==1], inplace=True)\n",
    "df.drop(columns=['HOLIDAY'], inplace=True)"
   ]
  },
  {
   "cell_type": "markdown",
   "id": "4xow27N0kFbB",
   "metadata": {
    "id": "4xow27N0kFbB"
   },
   "source": [
    "## Hot encoding"
   ]
  },
  {
   "cell_type": "code",
   "execution_count": null,
   "id": "WciIAhqyYxFS",
   "metadata": {
    "id": "WciIAhqyYxFS"
   },
   "outputs": [],
   "source": [
    "def one_hot(og_df, feature_to_encode):\n",
    "    \"Function that takes a dataframe, and a feature to one-hot encode and returns the dataframe with that feature encoded\"\n",
    "    dummies = pd.get_dummies(og_df[feature_to_encode], prefix = feature_to_encode, prefix_sep = \"_\")\n",
    "    df = pd.concat([og_df, dummies], axis=1)\n",
    "    df = df.drop([feature_to_encode], axis=1)\n",
    "    return(df)"
   ]
  },
  {
   "cell_type": "code",
   "execution_count": null,
   "id": "5nvunoQjYzgI",
   "metadata": {
    "id": "5nvunoQjYzgI"
   },
   "outputs": [],
   "source": [
    "to_encode = ['Sector', 'MONTH', 'DAY']"
   ]
  },
  {
   "cell_type": "code",
   "execution_count": null,
   "id": "FhWmdt68Y1om",
   "metadata": {
    "id": "FhWmdt68Y1om"
   },
   "outputs": [],
   "source": [
    "#encode the time features of interest\n",
    "encoded_df = df\n",
    "for encode in to_encode:\n",
    "    encoded_df = one_hot(encoded_df, encode)"
   ]
  },
  {
   "cell_type": "code",
   "execution_count": null,
   "id": "SiEJ05aCY4bM",
   "metadata": {
    "id": "SiEJ05aCY4bM"
   },
   "outputs": [],
   "source": [
    "encoded_df.rename(columns={\"Volume\":\"Volume_PP\"}, inplace=True)"
   ]
  },
  {
   "cell_type": "code",
   "execution_count": null,
   "id": "hRxJTKfQY62J",
   "metadata": {
    "id": "hRxJTKfQY62J"
   },
   "outputs": [],
   "source": [
    "encoded_df"
   ]
  },
  {
   "cell_type": "markdown",
   "id": "rQi6oFIjkO5h",
   "metadata": {
    "id": "rQi6oFIjkO5h"
   },
   "source": [
    "## Final result"
   ]
  },
  {
   "cell_type": "code",
   "execution_count": null,
   "id": "lhqychsSY82h",
   "metadata": {
    "id": "lhqychsSY82h"
   },
   "outputs": [],
   "source": [
    "encoded_df.to_csv('df.csv', index=False)"
   ]
  }
 ],
 "metadata": {
  "colab": {
   "provenance": [],
   "toc_visible": true
  },
  "kernelspec": {
   "display_name": "Python 3 (ipykernel)",
   "language": "python",
   "name": "python3"
  },
  "language_info": {
   "codemirror_mode": {
    "name": "ipython",
    "version": 3
   },
   "file_extension": ".py",
   "mimetype": "text/x-python",
   "name": "python",
   "nbconvert_exporter": "python",
   "pygments_lexer": "ipython3",
   "version": "3.12.4"
  }
 },
 "nbformat": 4,
 "nbformat_minor": 5
}
