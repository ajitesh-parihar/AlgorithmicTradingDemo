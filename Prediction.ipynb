{
 "cells": [
  {
   "cell_type": "markdown",
   "id": "53040c73-9307-434b-a33e-f731629881a1",
   "metadata": {},
   "source": [
    "# Import Libraries"
   ]
  },
  {
   "cell_type": "code",
   "execution_count": 75,
   "id": "d6173687-74ee-46c3-bbc3-20d0c6fb7c29",
   "metadata": {},
   "outputs": [],
   "source": [
    "globals().clear\n",
    "import time\n",
    "import pandas as pd\n",
    "import numpy as np\n",
    "import seaborn as sns\n",
    "sns.set()\n",
    "from datetime import datetime\n",
    "\n",
    "from sklearn.metrics import mean_squared_error\n",
    "from sklearn.metrics import mean_absolute_percentage_error\n",
    "from sklearn.preprocessing import MinMaxScaler\n",
    "from xgboost import XGBRegressor\n",
    "import xgboost as xgb\n",
    "import torch\n",
    "\n",
    "import seaborn as sns\n",
    "sns.set()\n",
    "import matplotlib.pyplot as plt"
   ]
  },
  {
   "cell_type": "markdown",
   "id": "7d0518dc-0b36-40e3-acba-e5de7063a854",
   "metadata": {},
   "source": [
    "# Load dataset and filter"
   ]
  },
  {
   "cell_type": "code",
   "execution_count": 2,
   "id": "d30a5aea",
   "metadata": {
    "id": "d30a5aea"
   },
   "outputs": [],
   "source": [
    "# Load Dataset\n",
    "def loadDataset():\n",
    "    return pd.read_csv('df.csv')"
   ]
  },
  {
   "cell_type": "code",
   "execution_count": 3,
   "id": "918b8d57",
   "metadata": {
    "id": "918b8d57"
   },
   "outputs": [],
   "source": [
    "# For this specific trial, filter the dataframe\n",
    "def filterDataset(tickers, df):\n",
    "    return df[df.stock_ID.isin(tickers)]"
   ]
  },
  {
   "cell_type": "code",
   "execution_count": 4,
   "id": "259c8e03-309c-4c40-a43d-f2b8c582bac5",
   "metadata": {},
   "outputs": [],
   "source": [
    "# Reindexing\n",
    "# newCols = ['stock_ID', 'Close', 'Volume_PP', 'DATETIME']\n",
    "# df = df[[nCol for nCol in newCols] + [col for col in df.columns if col not in newCols]]\n",
    "# df"
   ]
  },
  {
   "cell_type": "code",
   "execution_count": 5,
   "id": "e20451bf",
   "metadata": {
    "id": "e20451bf"
   },
   "outputs": [],
   "source": [
    "# # df['DATETIME']= pd.to_datetime(df['DATETIME'], format='%m/%d/%Y %H:%M')\n",
    "# df['DATETIME']= pd.to_datetime(df['DATETIME'], format ='%Y-%m-%d')"
   ]
  },
  {
   "cell_type": "code",
   "execution_count": 6,
   "id": "528d0aca",
   "metadata": {
    "id": "528d0aca"
   },
   "outputs": [],
   "source": [
    "# # Sort by time so that the first 29 rows occupy the first time value for all the stocks.\n",
    "# # Fill in 0's for missing values for now.\n",
    "# df = df.set_index('DATETIME')\n",
    "# df = df.fillna(0)"
   ]
  },
  {
   "cell_type": "code",
   "execution_count": 7,
   "id": "30be49c8",
   "metadata": {
    "id": "30be49c8"
   },
   "outputs": [],
   "source": [
    "# # Select the length of the df: should include start of training window and end of prediction date\n",
    "# df = df.sort_index().loc['2019-06-26':'2024-06-15']"
   ]
  },
  {
   "cell_type": "code",
   "execution_count": 8,
   "id": "3eb92e68",
   "metadata": {
    "id": "3eb92e68"
   },
   "outputs": [],
   "source": [
    "# #Set the DATETIME for fecha\n",
    "# DATETIME = df.index.values"
   ]
  },
  {
   "cell_type": "code",
   "execution_count": 9,
   "id": "66568df5",
   "metadata": {
    "id": "66568df5"
   },
   "outputs": [],
   "source": [
    "# # Sort dataframe such that it is both in sequential order, and also in alphabetical order for each day\n",
    "# #(i.e first entry for each time entry should be AAPL, and last should be XOM).\n",
    "# df.sort_values([\"DATETIME\", \"stock_ID\"], inplace=True)"
   ]
  },
  {
   "cell_type": "code",
   "execution_count": 10,
   "id": "dff25d6a-d11f-4973-bf35-c387e506f5c7",
   "metadata": {},
   "outputs": [],
   "source": [
    "def preprocess(df):\n",
    "    # Reindexing\n",
    "    newCols = ['stock_ID', 'Close', 'Volume_PP', 'DATETIME']\n",
    "    df = df[[nCol for nCol in newCols] + [col for col in df.columns if col not in newCols]]\n",
    "    # Convert format to datetime\n",
    "    df['DATETIME']= pd.to_datetime(df['DATETIME'], format ='%Y-%m-%d')\n",
    "    # Sort by time so that the first rows occupy the first time value for all the stocks.\n",
    "    # Fill in 0's for missing values for now.\n",
    "    df = df.set_index('DATETIME')\n",
    "    df = df.fillna(0)\n",
    "    # Select the length of the df: should include start of training window and end of prediction date\n",
    "    df = df.sort_index().loc['2019-06-26':'2024-06-15']#\n",
    "    #Set the DATETIME for fecha\n",
    "    DATETIME = df.index.values\n",
    "    # Sort dataframe such that it is both in sequential order, and also in alphabetical order for each day\n",
    "    df.sort_values([\"DATETIME\", \"stock_ID\"], inplace=True)\n",
    "    return [df, DATETIME]"
   ]
  },
  {
   "cell_type": "code",
   "execution_count": 11,
   "id": "620012ee-7e32-4339-aacc-d94e89810f4c",
   "metadata": {},
   "outputs": [
    {
     "data": {
      "text/html": [
       "<div>\n",
       "<style scoped>\n",
       "    .dataframe tbody tr th:only-of-type {\n",
       "        vertical-align: middle;\n",
       "    }\n",
       "\n",
       "    .dataframe tbody tr th {\n",
       "        vertical-align: top;\n",
       "    }\n",
       "\n",
       "    .dataframe thead th {\n",
       "        text-align: right;\n",
       "    }\n",
       "</style>\n",
       "<table border=\"1\" class=\"dataframe\">\n",
       "  <thead>\n",
       "    <tr style=\"text-align: right;\">\n",
       "      <th></th>\n",
       "      <th>stock_ID</th>\n",
       "      <th>Close</th>\n",
       "      <th>Volume_PP</th>\n",
       "      <th>P/E Ratio ttm</th>\n",
       "      <th>P/B Ratio mrq</th>\n",
       "      <th>D/E Ratio mrq</th>\n",
       "      <th>Free Cash Flow ttm</th>\n",
       "      <th>pegRatio</th>\n",
       "      <th>ROE ttm</th>\n",
       "      <th>S&amp;P500_PP</th>\n",
       "      <th>...</th>\n",
       "      <th>DAY_22</th>\n",
       "      <th>DAY_23</th>\n",
       "      <th>DAY_24</th>\n",
       "      <th>DAY_25</th>\n",
       "      <th>DAY_26</th>\n",
       "      <th>DAY_27</th>\n",
       "      <th>DAY_28</th>\n",
       "      <th>DAY_29</th>\n",
       "      <th>DAY_30</th>\n",
       "      <th>DAY_31</th>\n",
       "    </tr>\n",
       "    <tr>\n",
       "      <th>DATETIME</th>\n",
       "      <th></th>\n",
       "      <th></th>\n",
       "      <th></th>\n",
       "      <th></th>\n",
       "      <th></th>\n",
       "      <th></th>\n",
       "      <th></th>\n",
       "      <th></th>\n",
       "      <th></th>\n",
       "      <th></th>\n",
       "      <th></th>\n",
       "      <th></th>\n",
       "      <th></th>\n",
       "      <th></th>\n",
       "      <th></th>\n",
       "      <th></th>\n",
       "      <th></th>\n",
       "      <th></th>\n",
       "      <th></th>\n",
       "      <th></th>\n",
       "      <th></th>\n",
       "    </tr>\n",
       "  </thead>\n",
       "  <tbody>\n",
       "    <tr>\n",
       "      <th>2019-06-26</th>\n",
       "      <td>AAPL</td>\n",
       "      <td>49.95</td>\n",
       "      <td>104270048</td>\n",
       "      <td>33.245342</td>\n",
       "      <td>44.262974</td>\n",
       "      <td>140.968</td>\n",
       "      <td>8.472687e+10</td>\n",
       "      <td>3.08</td>\n",
       "      <td>1.47250</td>\n",
       "      <td>2913.78</td>\n",
       "      <td>...</td>\n",
       "      <td>0</td>\n",
       "      <td>0</td>\n",
       "      <td>0</td>\n",
       "      <td>0</td>\n",
       "      <td>1</td>\n",
       "      <td>0</td>\n",
       "      <td>0</td>\n",
       "      <td>0</td>\n",
       "      <td>0</td>\n",
       "      <td>0</td>\n",
       "    </tr>\n",
       "    <tr>\n",
       "      <th>2019-06-26</th>\n",
       "      <td>AMZN</td>\n",
       "      <td>94.89</td>\n",
       "      <td>48838000</td>\n",
       "      <td>55.575844</td>\n",
       "      <td>9.499688</td>\n",
       "      <td>74.107</td>\n",
       "      <td>5.726975e+10</td>\n",
       "      <td>1.40</td>\n",
       "      <td>0.20305</td>\n",
       "      <td>2913.78</td>\n",
       "      <td>...</td>\n",
       "      <td>0</td>\n",
       "      <td>0</td>\n",
       "      <td>0</td>\n",
       "      <td>0</td>\n",
       "      <td>1</td>\n",
       "      <td>0</td>\n",
       "      <td>0</td>\n",
       "      <td>0</td>\n",
       "      <td>0</td>\n",
       "      <td>0</td>\n",
       "    </tr>\n",
       "    <tr>\n",
       "      <th>2019-06-26</th>\n",
       "      <td>CSCO</td>\n",
       "      <td>56.60</td>\n",
       "      <td>19286146</td>\n",
       "      <td>16.030405</td>\n",
       "      <td>4.179144</td>\n",
       "      <td>72.570</td>\n",
       "      <td>1.441238e+10</td>\n",
       "      <td>7.58</td>\n",
       "      <td>0.27517</td>\n",
       "      <td>2913.78</td>\n",
       "      <td>...</td>\n",
       "      <td>0</td>\n",
       "      <td>0</td>\n",
       "      <td>0</td>\n",
       "      <td>0</td>\n",
       "      <td>1</td>\n",
       "      <td>0</td>\n",
       "      <td>0</td>\n",
       "      <td>0</td>\n",
       "      <td>0</td>\n",
       "      <td>0</td>\n",
       "    </tr>\n",
       "    <tr>\n",
       "      <th>2019-06-26</th>\n",
       "      <td>GOOGL</td>\n",
       "      <td>54.02</td>\n",
       "      <td>34697460</td>\n",
       "      <td>28.393568</td>\n",
       "      <td>7.838752</td>\n",
       "      <td>9.690</td>\n",
       "      <td>5.506413e+10</td>\n",
       "      <td>1.23</td>\n",
       "      <td>0.29764</td>\n",
       "      <td>2913.78</td>\n",
       "      <td>...</td>\n",
       "      <td>0</td>\n",
       "      <td>0</td>\n",
       "      <td>0</td>\n",
       "      <td>0</td>\n",
       "      <td>1</td>\n",
       "      <td>0</td>\n",
       "      <td>0</td>\n",
       "      <td>0</td>\n",
       "      <td>0</td>\n",
       "      <td>0</td>\n",
       "    </tr>\n",
       "    <tr>\n",
       "      <th>2019-06-26</th>\n",
       "      <td>MSFT</td>\n",
       "      <td>133.93</td>\n",
       "      <td>23657745</td>\n",
       "      <td>39.275803</td>\n",
       "      <td>13.296436</td>\n",
       "      <td>41.963</td>\n",
       "      <td>6.199800e+10</td>\n",
       "      <td>2.36</td>\n",
       "      <td>0.38488</td>\n",
       "      <td>2913.78</td>\n",
       "      <td>...</td>\n",
       "      <td>0</td>\n",
       "      <td>0</td>\n",
       "      <td>0</td>\n",
       "      <td>0</td>\n",
       "      <td>1</td>\n",
       "      <td>0</td>\n",
       "      <td>0</td>\n",
       "      <td>0</td>\n",
       "      <td>0</td>\n",
       "      <td>0</td>\n",
       "    </tr>\n",
       "    <tr>\n",
       "      <th>...</th>\n",
       "      <td>...</td>\n",
       "      <td>...</td>\n",
       "      <td>...</td>\n",
       "      <td>...</td>\n",
       "      <td>...</td>\n",
       "      <td>...</td>\n",
       "      <td>...</td>\n",
       "      <td>...</td>\n",
       "      <td>...</td>\n",
       "      <td>...</td>\n",
       "      <td>...</td>\n",
       "      <td>...</td>\n",
       "      <td>...</td>\n",
       "      <td>...</td>\n",
       "      <td>...</td>\n",
       "      <td>...</td>\n",
       "      <td>...</td>\n",
       "      <td>...</td>\n",
       "      <td>...</td>\n",
       "      <td>...</td>\n",
       "      <td>...</td>\n",
       "    </tr>\n",
       "    <tr>\n",
       "      <th>2024-06-14</th>\n",
       "      <td>AMZN</td>\n",
       "      <td>183.10</td>\n",
       "      <td>15260992</td>\n",
       "      <td>55.575844</td>\n",
       "      <td>9.499688</td>\n",
       "      <td>74.107</td>\n",
       "      <td>5.726975e+10</td>\n",
       "      <td>1.40</td>\n",
       "      <td>0.20305</td>\n",
       "      <td>5423.68</td>\n",
       "      <td>...</td>\n",
       "      <td>0</td>\n",
       "      <td>0</td>\n",
       "      <td>0</td>\n",
       "      <td>0</td>\n",
       "      <td>0</td>\n",
       "      <td>0</td>\n",
       "      <td>0</td>\n",
       "      <td>0</td>\n",
       "      <td>0</td>\n",
       "      <td>0</td>\n",
       "    </tr>\n",
       "    <tr>\n",
       "      <th>2024-06-14</th>\n",
       "      <td>CSCO</td>\n",
       "      <td>45.68</td>\n",
       "      <td>8893123</td>\n",
       "      <td>16.030405</td>\n",
       "      <td>4.179144</td>\n",
       "      <td>72.570</td>\n",
       "      <td>1.441238e+10</td>\n",
       "      <td>7.58</td>\n",
       "      <td>0.27517</td>\n",
       "      <td>5423.68</td>\n",
       "      <td>...</td>\n",
       "      <td>0</td>\n",
       "      <td>0</td>\n",
       "      <td>0</td>\n",
       "      <td>0</td>\n",
       "      <td>0</td>\n",
       "      <td>0</td>\n",
       "      <td>0</td>\n",
       "      <td>0</td>\n",
       "      <td>0</td>\n",
       "      <td>0</td>\n",
       "    </tr>\n",
       "    <tr>\n",
       "      <th>2024-06-14</th>\n",
       "      <td>GOOGL</td>\n",
       "      <td>176.29</td>\n",
       "      <td>9221469</td>\n",
       "      <td>28.393568</td>\n",
       "      <td>7.838752</td>\n",
       "      <td>9.690</td>\n",
       "      <td>5.506413e+10</td>\n",
       "      <td>1.23</td>\n",
       "      <td>0.29764</td>\n",
       "      <td>5423.68</td>\n",
       "      <td>...</td>\n",
       "      <td>0</td>\n",
       "      <td>0</td>\n",
       "      <td>0</td>\n",
       "      <td>0</td>\n",
       "      <td>0</td>\n",
       "      <td>0</td>\n",
       "      <td>0</td>\n",
       "      <td>0</td>\n",
       "      <td>0</td>\n",
       "      <td>0</td>\n",
       "    </tr>\n",
       "    <tr>\n",
       "      <th>2024-06-14</th>\n",
       "      <td>MSFT</td>\n",
       "      <td>442.29</td>\n",
       "      <td>8070957</td>\n",
       "      <td>39.275803</td>\n",
       "      <td>13.296436</td>\n",
       "      <td>41.963</td>\n",
       "      <td>6.199800e+10</td>\n",
       "      <td>2.36</td>\n",
       "      <td>0.38488</td>\n",
       "      <td>5423.68</td>\n",
       "      <td>...</td>\n",
       "      <td>0</td>\n",
       "      <td>0</td>\n",
       "      <td>0</td>\n",
       "      <td>0</td>\n",
       "      <td>0</td>\n",
       "      <td>0</td>\n",
       "      <td>0</td>\n",
       "      <td>0</td>\n",
       "      <td>0</td>\n",
       "      <td>0</td>\n",
       "    </tr>\n",
       "    <tr>\n",
       "      <th>2024-06-14</th>\n",
       "      <td>NVDA</td>\n",
       "      <td>131.87</td>\n",
       "      <td>249316217</td>\n",
       "      <td>72.508766</td>\n",
       "      <td>62.057056</td>\n",
       "      <td>22.866</td>\n",
       "      <td>2.902375e+10</td>\n",
       "      <td>1.01</td>\n",
       "      <td>1.15658</td>\n",
       "      <td>5423.68</td>\n",
       "      <td>...</td>\n",
       "      <td>0</td>\n",
       "      <td>0</td>\n",
       "      <td>0</td>\n",
       "      <td>0</td>\n",
       "      <td>0</td>\n",
       "      <td>0</td>\n",
       "      <td>0</td>\n",
       "      <td>0</td>\n",
       "      <td>0</td>\n",
       "      <td>0</td>\n",
       "    </tr>\n",
       "  </tbody>\n",
       "</table>\n",
       "<p>7362 rows × 82 columns</p>\n",
       "</div>"
      ],
      "text/plain": [
       "           stock_ID   Close  Volume_PP  P/E Ratio ttm  P/B Ratio mrq  \\\n",
       "DATETIME                                                               \n",
       "2019-06-26     AAPL   49.95  104270048      33.245342      44.262974   \n",
       "2019-06-26     AMZN   94.89   48838000      55.575844       9.499688   \n",
       "2019-06-26     CSCO   56.60   19286146      16.030405       4.179144   \n",
       "2019-06-26    GOOGL   54.02   34697460      28.393568       7.838752   \n",
       "2019-06-26     MSFT  133.93   23657745      39.275803      13.296436   \n",
       "...             ...     ...        ...            ...            ...   \n",
       "2024-06-14     AMZN  183.10   15260992      55.575844       9.499688   \n",
       "2024-06-14     CSCO   45.68    8893123      16.030405       4.179144   \n",
       "2024-06-14    GOOGL  176.29    9221469      28.393568       7.838752   \n",
       "2024-06-14     MSFT  442.29    8070957      39.275803      13.296436   \n",
       "2024-06-14     NVDA  131.87  249316217      72.508766      62.057056   \n",
       "\n",
       "            D/E Ratio mrq  Free Cash Flow ttm  pegRatio  ROE ttm  S&P500_PP  \\\n",
       "DATETIME                                                                      \n",
       "2019-06-26        140.968        8.472687e+10      3.08  1.47250    2913.78   \n",
       "2019-06-26         74.107        5.726975e+10      1.40  0.20305    2913.78   \n",
       "2019-06-26         72.570        1.441238e+10      7.58  0.27517    2913.78   \n",
       "2019-06-26          9.690        5.506413e+10      1.23  0.29764    2913.78   \n",
       "2019-06-26         41.963        6.199800e+10      2.36  0.38488    2913.78   \n",
       "...                   ...                 ...       ...      ...        ...   \n",
       "2024-06-14         74.107        5.726975e+10      1.40  0.20305    5423.68   \n",
       "2024-06-14         72.570        1.441238e+10      7.58  0.27517    5423.68   \n",
       "2024-06-14          9.690        5.506413e+10      1.23  0.29764    5423.68   \n",
       "2024-06-14         41.963        6.199800e+10      2.36  0.38488    5423.68   \n",
       "2024-06-14         22.866        2.902375e+10      1.01  1.15658    5423.68   \n",
       "\n",
       "            ...  DAY_22  DAY_23  DAY_24  DAY_25  DAY_26  DAY_27  DAY_28  \\\n",
       "DATETIME    ...                                                           \n",
       "2019-06-26  ...       0       0       0       0       1       0       0   \n",
       "2019-06-26  ...       0       0       0       0       1       0       0   \n",
       "2019-06-26  ...       0       0       0       0       1       0       0   \n",
       "2019-06-26  ...       0       0       0       0       1       0       0   \n",
       "2019-06-26  ...       0       0       0       0       1       0       0   \n",
       "...         ...     ...     ...     ...     ...     ...     ...     ...   \n",
       "2024-06-14  ...       0       0       0       0       0       0       0   \n",
       "2024-06-14  ...       0       0       0       0       0       0       0   \n",
       "2024-06-14  ...       0       0       0       0       0       0       0   \n",
       "2024-06-14  ...       0       0       0       0       0       0       0   \n",
       "2024-06-14  ...       0       0       0       0       0       0       0   \n",
       "\n",
       "            DAY_29  DAY_30  DAY_31  \n",
       "DATETIME                            \n",
       "2019-06-26       0       0       0  \n",
       "2019-06-26       0       0       0  \n",
       "2019-06-26       0       0       0  \n",
       "2019-06-26       0       0       0  \n",
       "2019-06-26       0       0       0  \n",
       "...            ...     ...     ...  \n",
       "2024-06-14       0       0       0  \n",
       "2024-06-14       0       0       0  \n",
       "2024-06-14       0       0       0  \n",
       "2024-06-14       0       0       0  \n",
       "2024-06-14       0       0       0  \n",
       "\n",
       "[7362 rows x 82 columns]"
      ]
     },
     "execution_count": 11,
     "metadata": {},
     "output_type": "execute_result"
    }
   ],
   "source": [
    "# symbols = ['AAPL','NVDA','MSFT','CSCO','AMZN','GOOGL']\n",
    "\n",
    "# # Read data from csv\n",
    "# df = loadDataset()\n",
    "# # Filter dataframe with selected symbols\n",
    "# df = filterDataset(symbols, df)\n",
    "# # Preprocess dataframe fields\n",
    "# df, DATETIME = preprocess(df)\n",
    "# df"
   ]
  },
  {
   "cell_type": "markdown",
   "id": "14c07e18-8d3a-4dd2-9325-42075e8b9eba",
   "metadata": {},
   "source": [
    "# Train model and generate prediction"
   ]
  },
  {
   "cell_type": "code",
   "execution_count": 12,
   "id": "416c0342",
   "metadata": {
    "id": "416c0342",
    "outputId": "89f21098-efb6-46fa-c753-eead829266e5"
   },
   "outputs": [],
   "source": [
    "# file_name = 'XGB.60d.1d'\n",
    "def trainModel(trainingDateStart,predictionDateStart, predictionDateEnd, daysToPredict):\n",
    "    num_companies = len(symbols)\n",
    "    step_rows  = num_companies * daysToPredict # Multiply by number of days to predict\n",
    "    total_rows = len(df[trainingDateStart:predictionDateEnd])  # Define total length to predict on\n",
    "    train_rows = len(df[trainingDateStart:predictionDateStart])  # Define length of training window\n",
    "    \n",
    "    scale_X = MinMaxScaler()\n",
    "    model = XGBRegressor(n_estimators=300, max_depth=100, learning_rate=0.1, objective='reg:squarederror'\n",
    "                         , alpha=10, tree_method=\"hist\", device=\"cuda\")\n",
    "    \n",
    "    result = pd.DataFrame(columns=['stock_ID', 'DATETIME', 'ACTUAL', 'PREDICTED', 'DIFFERENCE', 'TRAIN_DURATION'])\n",
    "    \n",
    "    for i in range(0, total_rows - train_rows, step_rows):\n",
    "        st = time.time()\n",
    "        # 1. Obtain X and y\n",
    "        train  = df.iloc[i:train_rows + i, 1:]\n",
    "        test   = df.iloc[train_rows + i:train_rows + i + step_rows, 1:]\n",
    "        X_train, y_train = train.iloc[:, 1:], train.iloc[:, 0]\n",
    "        X_test, y_test = test.iloc[:, 1:], test.iloc[:, 0]\n",
    "    \n",
    "    \n",
    "        # 2. Scale X\n",
    "        X_train = scale_X.fit_transform(X_train)\n",
    "        X_test = scale_X.transform(X_test)\n",
    "    \n",
    "        # 3. Fit and Predict\n",
    "        model.fit(X_train, y_train)\n",
    "        y_hat = model.predict(X_test)\n",
    "        et = time.time()\n",
    "    \n",
    "        # 4. Save data with prediction\n",
    "        fecha = DATETIME[train_rows + i:train_rows + i + step_rows]\n",
    "        stockID = df['stock_ID'][train_rows + i:train_rows + i + step_rows]\n",
    "        datos = {\n",
    "            'stock_ID' : stockID,\n",
    "            'DATETIME': fecha,\n",
    "            'ACTUAL': y_test,\n",
    "            'PREDICTED': y_hat,\n",
    "            'DIFFERENCE': abs(y_hat - y_test),\n",
    "            'TRAIN_DURATION': np.full(y_hat.shape[0], et - st)\n",
    "        }\n",
    "        data = pd.DataFrame(data=datos)\n",
    "        result = pd.concat([result, data], ignore_index=True)\n",
    "    \n",
    "        print(\"Count Down:\", int((total_rows - train_rows - i) / step_rows))\n",
    "    return result"
   ]
  },
  {
   "cell_type": "code",
   "execution_count": 13,
   "id": "caeaa3e9-e9d2-4798-82e5-7e2874c113e3",
   "metadata": {},
   "outputs": [
    {
     "name": "stderr",
     "output_type": "stream",
     "text": [
      "/home/research/Jupyter/.venv/lib/python3.10/site-packages/xgboost/core.py:158: UserWarning: [12:23:18] WARNING: /workspace/src/common/error_msg.cc:58: Falling back to prediction using DMatrix due to mismatched devices. This might lead to higher memory usage and slower performance. XGBoost is running on: cuda:0, while the input data is on: cpu.\n",
      "Potential solutions:\n",
      "- Use a data structure that matches the device ordinal in the booster.\n",
      "- Set the device for booster before call to inplace_predict.\n",
      "\n",
      "This warning will only be shown once.\n",
      "\n",
      "  warnings.warn(smsg, UserWarning)\n",
      "/tmp/ipykernel_407414/2889639455.py:44: FutureWarning: The behavior of DataFrame concatenation with empty or all-NA entries is deprecated. In a future version, this will no longer exclude empty or all-NA columns when determining the result dtypes. To retain the old behavior, exclude the relevant entries before the concat operation.\n",
      "  result = pd.concat([result, data], ignore_index=True)\n"
     ]
    },
    {
     "name": "stdout",
     "output_type": "stream",
     "text": [
      "Count Down: 4\n",
      "Count Down: 3\n",
      "Count Down: 2\n",
      "Count Down: 1\n",
      "Count Down: 0\n"
     ]
    }
   ],
   "source": [
    "# # Input data\n",
    "# trainingDateStart = '2019-06-26'\n",
    "# predictionDateStart = '2024-05-15'\n",
    "# predictionDateEnd = '2024-06-15'\n",
    "# daysToPredict = 5\n",
    "\n",
    "# # Generate prediction\n",
    "# result = trainModel(trainingDateStart,predictionDateStart, predictionDateEnd, daysToPredict)"
   ]
  },
  {
   "cell_type": "markdown",
   "id": "eb4d7e4b-4263-48f2-b6c3-ea64fbcbe839",
   "metadata": {},
   "source": [
    "# Result Analysis"
   ]
  },
  {
   "cell_type": "code",
   "execution_count": 16,
   "id": "7745a6d5",
   "metadata": {
    "id": "7745a6d5",
    "outputId": "1677c2fe-6687-4df5-c21f-4c32ea6c87d0",
    "scrolled": true
   },
   "outputs": [],
   "source": [
    "# result[0::num_companies]\n",
    "# result.DATETIME.value_counts()\n",
    "# result['DATETIME'] = pd.to_datetime(result['DATETIME'])"
   ]
  },
  {
   "cell_type": "code",
   "execution_count": null,
   "id": "d74d641d-68b6-4b67-aebf-a5374c3e7be2",
   "metadata": {},
   "outputs": [],
   "source": [
    "def plotPrediction(result):\n",
    "    stock_ids = result['stock_ID'].unique()\n",
    "    sns.set(style='ticks')\n",
    "    fig, axes = plt.subplots(len(stock_ids), 1, figsize=(20, 5 * len(stock_ids)))\n",
    "    fig.subplots_adjust(hspace=0.5)\n",
    "    \n",
    "    for i, stock in enumerate(stock_ids):\n",
    "        data = result[result['stock_ID'] == stock]\n",
    "        sns.lineplot(ax=axes[i], data=data,x='DATETIME',y='ACTUAL',linewidth=1, label='Actual price', color='red')\n",
    "        sns.lineplot(ax=axes[i], data=data,x='DATETIME',y='PREDICTED',linewidth=1, label='Predicted price', color='darkblue')\n",
    "        axes[i].set_title(f'Stock {stock}')\n",
    "        axes[i].set_ylabel('Price (USD)')\n",
    "        axes[i].set_xlabel('Date')\n",
    "    \n",
    "    plt.tight_layout()\n",
    "    plt.show()"
   ]
  },
  {
   "cell_type": "markdown",
   "id": "440324e5-1e8b-492c-bfc1-c39ea58d3910",
   "metadata": {
    "id": "fac52d22"
   },
   "source": [
    "# Metrics Analysis"
   ]
  },
  {
   "cell_type": "code",
   "execution_count": 14,
   "id": "21ab8fbd",
   "metadata": {
    "id": "21ab8fbd"
   },
   "outputs": [],
   "source": [
    "def calculateMetrics(result):\n",
    "    # Create Dataframe for the results\n",
    "    metrics_df = pd.DataFrame(columns = ['stock_ID', \"RMSE\", \"MAPE\", \"MPE\", \"MTT\"])\n",
    "    def mean_positive_error(y_true, y_pred):\n",
    "        y_true, y_pred = np.array(y_true), np.array(y_pred)\n",
    "        error = np.mean(np.maximum((y_pred - y_true),0))\n",
    "        return error\n",
    "    \n",
    "    new_rows = []\n",
    "    for i in range(len(symbols)):\n",
    "        stock_result = result[i::len(symbols)]\n",
    "        # Calculate RMSE\n",
    "        rmse = np.sqrt(mean_squared_error(stock_result['ACTUAL'], stock_result['PREDICTED']))\n",
    "        # Calculate MAPE %\n",
    "        mape = mean_absolute_percentage_error(stock_result['ACTUAL'], stock_result['PREDICTED']) * 100\n",
    "        # Calculate MPE %\n",
    "        mpe = mean_positive_error(stock_result['ACTUAL'],stock_result['PREDICTED'])\n",
    "        # Calculate MTT in seconds\n",
    "        mtt = np.mean(stock_result['TRAIN_DURATION'])\n",
    "        new_row = pd.Series([symbols[i],rmse, mape, mpe, mtt], index=metrics_df.columns)\n",
    "        new_rows.append(new_row)\n",
    "    metrics_df = pd.DataFrame(new_rows)\n",
    "    return metrics_df"
   ]
  },
  {
   "cell_type": "code",
   "execution_count": 56,
   "id": "66463434-a479-4724-ad66-c4f68da7d844",
   "metadata": {},
   "outputs": [],
   "source": [
    "def meltMetrics(metrics_df):\n",
    "    metrics_df = metrics_df[[\"stock_ID\",\"RMSE\", \"MAPE\", \"MPE\"]]\n",
    "    return pd.melt(metrics_df, id_vars=['stock_ID'], var_name='metric', value_name='value')"
   ]
  },
  {
   "cell_type": "code",
   "execution_count": 57,
   "id": "36998994-cfe0-49ad-80d8-9f0c3ad05b92",
   "metadata": {},
   "outputs": [],
   "source": [
    "\n",
    "# metrics_df"
   ]
  },
  {
   "cell_type": "code",
   "execution_count": 68,
   "id": "e4026250",
   "metadata": {
    "id": "e4026250",
    "outputId": "d69ab73b-a95e-4895-df3c-e90d943ae870"
   },
   "outputs": [],
   "source": [
    "def plotMetrics(metrics_df):\n",
    "    metrics_df.set_index('stock_ID',inplace=True)\n",
    "    sns.barplot(data=melted_df,x='stock_ID',y='value',hue='metric')\n",
    "    plt.figtext(0.5, 0.01, f'Fig 7: Metrics of the model prediction', ha='center')\n",
    "    plt.ylabel('Value')\n",
    "    plt.xlabel('Stocks')\n",
    "\n",
    "    plt.tight_layout()\n",
    "    plt.show()"
   ]
  },
  {
   "cell_type": "code",
   "execution_count": 69,
   "id": "8a8521cb-b06c-433a-bfd2-2d4a013b3745",
   "metadata": {},
   "outputs": [
    {
     "data": {
      "image/png": "[encoded data removed]",
      "text/plain": [
       "<Figure size 640x480 with 1 Axes>"
      ]
     },
     "metadata": {},
     "output_type": "display_data"
    }
   ],
   "source": [
    "# metrics_df = calculateMetrics(result)\n",
    "# melted_df = meltMetrics(metrics_df)\n",
    "# melted_df\n",
    "# plotMetrics(metrics_df)"
   ]
  },
  {
   "cell_type": "markdown",
   "id": "5befc9dc-11e0-44a0-8de8-177862ae6c5a",
   "metadata": {},
   "source": [
    "# Performance Analysis"
   ]
  },
  {
   "cell_type": "code",
   "execution_count": 127,
   "id": "45b77706-0682-4626-beff-691b2b7d5a64",
   "metadata": {},
   "outputs": [],
   "source": [
    "def gpuInfo():\n",
    "    if torch.cuda.is_available():\n",
    "        gpu = torch.cuda.get_device_properties(0)\n",
    "        print(f'GPU: {gpu.name}\\nMemory: {int(gpu.total_memory/1024/1024)}GB\\nNumber of multiprocessors: {gpu.multi_processor_count}\\n\\\n",
    "Threads per multiprocessor: {gpu.max_threads_per_multi_processor}')\n",
    "    else: print(\"No GPU found, using CPUB.\")"
   ]
  },
  {
   "cell_type": "code",
   "execution_count": 128,
   "id": "07677b4a-f424-44e7-8bdd-f24ae688e6b4",
   "metadata": {},
   "outputs": [
    {
     "name": "stdout",
     "output_type": "stream",
     "text": [
      "GPU: NVIDIA GeForce RTX 4090\n",
      "Memory: 24210GB\n",
      "Number of multiprocessors: 128\n",
      "Threads per multiprocessor: 1536\n"
     ]
    }
   ],
   "source": [
    "# gpuInfo()"
   ]
  },
  {
   "cell_type": "code",
   "execution_count": 118,
   "id": "19a57885-3caa-4c5b-a7c2-29e336880b80",
   "metadata": {},
   "outputs": [],
   "source": [
    "def trainingStats(result, daysToPredict):\n",
    "    num_stocks = len(symbols)\n",
    "    num_dates = int(len(result) / num_stocks)\n",
    "    inferences = int(num_dates / daysToPredict + 1)\n",
    "    print(f'Number of stocks: {num_stocks}')\n",
    "    print(f'Number of dates: {num_dates}')\n",
    "    print(f'Number of inferences: {inferences}')\n",
    "    "
   ]
  },
  {
   "cell_type": "code",
   "execution_count": null,
   "id": "7abc6aa7-51cd-4844-b2f9-9766ab64d5cf",
   "metadata": {},
   "outputs": [],
   "source": [
    "# trainingStats(result, 5)"
   ]
  },
  {
   "cell_type": "code",
   "execution_count": 122,
   "id": "d65ac3a3-cfa1-4d05-9c77-5a74b9172d73",
   "metadata": {},
   "outputs": [],
   "source": [
    "def plotInferenceTime(result):\n",
    "    plt.figure(figsize=(20,10))\n",
    "    sns.set(style='ticks')\n",
    "    sns.lineplot(data=result,x='DATETIME',y='TRAIN_DURATION',linewidth=2, color='blue')\n",
    "    plt.figtext(0.5, 0.01, f'Fig 8: Inference time per point', ha='center')\n",
    "    plt.ylabel('Seconds')\n",
    "    plt.xlabel('Inference Point')"
   ]
  },
  {
   "cell_type": "code",
   "execution_count": null,
   "id": "732f7ba1-cb9e-47ea-b71d-f293141080d0",
   "metadata": {},
   "outputs": [],
   "source": [
    "# plotInferenceTime()"
   ]
  },
  {
   "cell_type": "code",
   "execution_count": null,
   "id": "8ae6e99e-43b7-4237-82ea-bbdddf3614cb",
   "metadata": {},
   "outputs": [],
   "source": []
  }
 ],
 "metadata": {
  "colab": {
   "provenance": []
  },
  "kernelspec": {
   "display_name": "Python 3 (ipykernel)",
   "language": "python",
   "name": "python3"
  },
  "language_info": {
   "codemirror_mode": {
    "name": "ipython",
    "version": 3
   },
   "file_extension": ".py",
   "mimetype": "text/x-python",
   "name": "python",
   "nbconvert_exporter": "python",
   "pygments_lexer": "ipython3",
   "version": "3.10.12"
  }
 },
 "nbformat": 4,
 "nbformat_minor": 5
}
