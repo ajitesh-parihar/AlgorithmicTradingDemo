{
 "cells": [
  {
   "cell_type": "markdown",
   "id": "ea2046ff-cf5f-4bd8-a4f7-51f5d28f61af",
   "metadata": {},
   "source": [
    "# Algorithmic Trading System Demonstration"
   ]
  },
  {
   "cell_type": "markdown",
   "id": "3e391543-20ef-470e-88c5-c031155fe572",
   "metadata": {},
   "source": [
    "System for time series prediction"
   ]
  },
  {
   "cell_type": "markdown",
   "id": "d88a785b-9f4d-4967-af14-fb97cc988551",
   "metadata": {},
   "source": [
    "## Database Exploratory Analysis"
   ]
  },
  {
   "cell_type": "code",
   "execution_count": null,
   "id": "d2b54f8e-de8a-4e93-8cd3-3520d137e5a8",
   "metadata": {},
   "outputs": [],
   "source": [
    "%%capture\n",
    "%run ./DatabaseExplore.ipynb"
   ]
  },
  {
   "cell_type": "markdown",
   "id": "41e04dfe-cd0c-4978-9381-1b34b5b14d3f",
   "metadata": {},
   "source": [
    "### Load bonds, commodities and index data from database"
   ]
  },
  {
   "cell_type": "markdown",
   "id": "d9c78dc1-0b59-4a54-a481-c41ced3f0f47",
   "metadata": {},
   "source": [
    "**Choose the date range for which you need to analyze the data for. (Format: YYYY-MM-DD)**  \n",
    "**Add the stock symbols in the 'symbols' list to choose stocks (case sensitive)**  \n",
    "*[List of stocks](./stocksList.ipynb)*"
   ]
  },
  {
   "cell_type": "code",
   "execution_count": null,
   "id": "c15d739d-c0f1-4676-93f7-2c6c4c114190",
   "metadata": {},
   "outputs": [],
   "source": [
    "# Input parameters\n",
    "start_date = '2021-06-28'\n",
    "end_date = '2024-06-27'\n",
    "symbols = ['AAPL','NVDA','MSFT','CSCO','AMZN','GOOGL']\n",
    "\n",
    "# Fetch from database\n",
    "indexes, commodities, bonds = getCommodities(start_date, end_date)\n",
    "stocks, topStocks = getStocks(symbols, start_date, end_date)"
   ]
  },
  {
   "cell_type": "markdown",
   "id": "48917b9e-a300-4337-a22f-de29c9d2c682",
   "metadata": {},
   "source": [
    "### Plot indices graph"
   ]
  },
  {
   "cell_type": "code",
   "execution_count": null,
   "id": "b0f7806a-7929-41ef-87ee-b123103171b0",
   "metadata": {},
   "outputs": [],
   "source": [
    "plotIndexes(indexes)"
   ]
  },
  {
   "cell_type": "markdown",
   "id": "4e8b0f7a-3a04-42ee-a4b4-f9b79f382d05",
   "metadata": {},
   "source": [
    "### Plot commodities graph"
   ]
  },
  {
   "cell_type": "code",
   "execution_count": null,
   "id": "bfa5e626-3b71-4c04-b137-4d59089f61f4",
   "metadata": {},
   "outputs": [],
   "source": [
    "plotCommodities(commodities)"
   ]
  },
  {
   "cell_type": "markdown",
   "id": "23a128a4-16fe-41e6-a7cb-3b5c1f3d6e45",
   "metadata": {},
   "source": [
    "### Plot bonds graph"
   ]
  },
  {
   "cell_type": "code",
   "execution_count": null,
   "id": "41623284-1cac-4d6d-b0e8-21e2a1ed5d4e",
   "metadata": {},
   "outputs": [],
   "source": [
    "plotBond(bonds)"
   ]
  },
  {
   "cell_type": "markdown",
   "id": "59565f33-0d0f-4d05-8841-c38df85583f9",
   "metadata": {},
   "source": [
    "### Plot Top 10 stocks"
   ]
  },
  {
   "cell_type": "code",
   "execution_count": null,
   "id": "579b06ef-3e7c-4a90-bd2e-3d4b9b4d3df5",
   "metadata": {},
   "outputs": [],
   "source": [
    "plotTopStocks(topStocks)"
   ]
  },
  {
   "cell_type": "markdown",
   "id": "07ad222d-3dc3-45b6-ab05-048e2195a396",
   "metadata": {},
   "source": [
    "### Plot selected stocks graphs"
   ]
  },
  {
   "cell_type": "code",
   "execution_count": null,
   "id": "258bb167-3976-40ad-9fca-ce702db376f2",
   "metadata": {},
   "outputs": [],
   "source": [
    "plotSelectedStocks(stocks)"
   ]
  },
  {
   "cell_type": "markdown",
   "id": "81649305-73db-4e91-94a1-69f8e08a5ff8",
   "metadata": {},
   "source": [
    "## Stock price forecast"
   ]
  },
  {
   "cell_type": "code",
   "execution_count": 4,
   "id": "5706c161-205f-4c10-99f8-ee1da590d049",
   "metadata": {},
   "outputs": [
    {
     "ename": "ModuleNotFoundError",
     "evalue": "No module named 'sklearn'",
     "output_type": "error",
     "traceback": [
      "\u001b[0;31m---------------------------------------------------------------------------\u001b[0m",
      "\u001b[0;31mModuleNotFoundError\u001b[0m                       Traceback (most recent call last)",
      "File \u001b[0;32m/tmp/ipykernel_24367/4224575390.py:9\u001b[0m\n\u001b[1;32m      6\u001b[0m sns\u001b[38;5;241m.\u001b[39mset()\n\u001b[1;32m      7\u001b[0m \u001b[38;5;28;01mfrom\u001b[39;00m \u001b[38;5;21;01mdatetime\u001b[39;00m \u001b[38;5;28;01mimport\u001b[39;00m datetime\n\u001b[0;32m----> 9\u001b[0m \u001b[38;5;28;01mfrom\u001b[39;00m \u001b[38;5;21;01msklearn\u001b[39;00m\u001b[38;5;21;01m.\u001b[39;00m\u001b[38;5;21;01mmetrics\u001b[39;00m \u001b[38;5;28;01mimport\u001b[39;00m mean_squared_error\n\u001b[1;32m     10\u001b[0m \u001b[38;5;28;01mfrom\u001b[39;00m \u001b[38;5;21;01msklearn\u001b[39;00m\u001b[38;5;21;01m.\u001b[39;00m\u001b[38;5;21;01mmetrics\u001b[39;00m \u001b[38;5;28;01mimport\u001b[39;00m mean_absolute_percentage_error\n\u001b[1;32m     11\u001b[0m \u001b[38;5;28;01mfrom\u001b[39;00m \u001b[38;5;21;01msklearn\u001b[39;00m\u001b[38;5;21;01m.\u001b[39;00m\u001b[38;5;21;01mpreprocessing\u001b[39;00m \u001b[38;5;28;01mimport\u001b[39;00m MinMaxScaler\n",
      "\u001b[0;31mModuleNotFoundError\u001b[0m: No module named 'sklearn'"
     ]
    },
    {
     "ename": "ModuleNotFoundError",
     "evalue": "No module named 'sklearn'",
     "output_type": "error",
     "traceback": [
      "\u001b[0;31m---------------------------------------------------------------------------\u001b[0m",
      "\u001b[0;31mModuleNotFoundError\u001b[0m                       Traceback (most recent call last)",
      "Cell \u001b[0;32mIn[4], line 1\u001b[0m\n\u001b[0;32m----> 1\u001b[0m \u001b[43mget_ipython\u001b[49m\u001b[43m(\u001b[49m\u001b[43m)\u001b[49m\u001b[38;5;241;43m.\u001b[39;49m\u001b[43mrun_line_magic\u001b[49m\u001b[43m(\u001b[49m\u001b[38;5;124;43m'\u001b[39;49m\u001b[38;5;124;43mrun\u001b[39;49m\u001b[38;5;124;43m'\u001b[39;49m\u001b[43m,\u001b[49m\u001b[43m \u001b[49m\u001b[38;5;124;43m'\u001b[39;49m\u001b[38;5;124;43m./Prediction.ipynb\u001b[39;49m\u001b[38;5;124;43m'\u001b[39;49m\u001b[43m)\u001b[49m\n",
      "File \u001b[0;32m~/ML/.venv/lib/python3.12/site-packages/IPython/core/interactiveshell.py:2480\u001b[0m, in \u001b[0;36mInteractiveShell.run_line_magic\u001b[0;34m(self, magic_name, line, _stack_depth)\u001b[0m\n\u001b[1;32m   2478\u001b[0m     kwargs[\u001b[38;5;124m'\u001b[39m\u001b[38;5;124mlocal_ns\u001b[39m\u001b[38;5;124m'\u001b[39m] \u001b[38;5;241m=\u001b[39m \u001b[38;5;28mself\u001b[39m\u001b[38;5;241m.\u001b[39mget_local_scope(stack_depth)\n\u001b[1;32m   2479\u001b[0m \u001b[38;5;28;01mwith\u001b[39;00m \u001b[38;5;28mself\u001b[39m\u001b[38;5;241m.\u001b[39mbuiltin_trap:\n\u001b[0;32m-> 2480\u001b[0m     result \u001b[38;5;241m=\u001b[39m \u001b[43mfn\u001b[49m\u001b[43m(\u001b[49m\u001b[38;5;241;43m*\u001b[39;49m\u001b[43margs\u001b[49m\u001b[43m,\u001b[49m\u001b[43m \u001b[49m\u001b[38;5;241;43m*\u001b[39;49m\u001b[38;5;241;43m*\u001b[39;49m\u001b[43mkwargs\u001b[49m\u001b[43m)\u001b[49m\n\u001b[1;32m   2482\u001b[0m \u001b[38;5;66;03m# The code below prevents the output from being displayed\u001b[39;00m\n\u001b[1;32m   2483\u001b[0m \u001b[38;5;66;03m# when using magics with decorator @output_can_be_silenced\u001b[39;00m\n\u001b[1;32m   2484\u001b[0m \u001b[38;5;66;03m# when the last Python token in the expression is a ';'.\u001b[39;00m\n\u001b[1;32m   2485\u001b[0m \u001b[38;5;28;01mif\u001b[39;00m \u001b[38;5;28mgetattr\u001b[39m(fn, magic\u001b[38;5;241m.\u001b[39mMAGIC_OUTPUT_CAN_BE_SILENCED, \u001b[38;5;28;01mFalse\u001b[39;00m):\n",
      "File \u001b[0;32m~/ML/.venv/lib/python3.12/site-packages/IPython/core/magics/execution.py:737\u001b[0m, in \u001b[0;36mExecutionMagics.run\u001b[0;34m(self, parameter_s, runner, file_finder)\u001b[0m\n\u001b[1;32m    735\u001b[0m     \u001b[38;5;28;01mwith\u001b[39;00m preserve_keys(\u001b[38;5;28mself\u001b[39m\u001b[38;5;241m.\u001b[39mshell\u001b[38;5;241m.\u001b[39muser_ns, \u001b[38;5;124m'\u001b[39m\u001b[38;5;124m__file__\u001b[39m\u001b[38;5;124m'\u001b[39m):\n\u001b[1;32m    736\u001b[0m         \u001b[38;5;28mself\u001b[39m\u001b[38;5;241m.\u001b[39mshell\u001b[38;5;241m.\u001b[39muser_ns[\u001b[38;5;124m'\u001b[39m\u001b[38;5;124m__file__\u001b[39m\u001b[38;5;124m'\u001b[39m] \u001b[38;5;241m=\u001b[39m filename\n\u001b[0;32m--> 737\u001b[0m         \u001b[38;5;28;43mself\u001b[39;49m\u001b[38;5;241;43m.\u001b[39;49m\u001b[43mshell\u001b[49m\u001b[38;5;241;43m.\u001b[39;49m\u001b[43msafe_execfile_ipy\u001b[49m\u001b[43m(\u001b[49m\u001b[43mfilename\u001b[49m\u001b[43m,\u001b[49m\u001b[43m \u001b[49m\u001b[43mraise_exceptions\u001b[49m\u001b[38;5;241;43m=\u001b[39;49m\u001b[38;5;28;43;01mTrue\u001b[39;49;00m\u001b[43m)\u001b[49m\n\u001b[1;32m    738\u001b[0m     \u001b[38;5;28;01mreturn\u001b[39;00m\n\u001b[1;32m    740\u001b[0m \u001b[38;5;66;03m# Control the response to exit() calls made by the script being run\u001b[39;00m\n",
      "File \u001b[0;32m~/ML/.venv/lib/python3.12/site-packages/IPython/core/interactiveshell.py:3005\u001b[0m, in \u001b[0;36mInteractiveShell.safe_execfile_ipy\u001b[0;34m(self, fname, shell_futures, raise_exceptions)\u001b[0m\n\u001b[1;32m   3003\u001b[0m result \u001b[38;5;241m=\u001b[39m \u001b[38;5;28mself\u001b[39m\u001b[38;5;241m.\u001b[39mrun_cell(cell, silent\u001b[38;5;241m=\u001b[39m\u001b[38;5;28;01mTrue\u001b[39;00m, shell_futures\u001b[38;5;241m=\u001b[39mshell_futures)\n\u001b[1;32m   3004\u001b[0m \u001b[38;5;28;01mif\u001b[39;00m raise_exceptions:\n\u001b[0;32m-> 3005\u001b[0m     \u001b[43mresult\u001b[49m\u001b[38;5;241;43m.\u001b[39;49m\u001b[43mraise_error\u001b[49m\u001b[43m(\u001b[49m\u001b[43m)\u001b[49m\n\u001b[1;32m   3006\u001b[0m \u001b[38;5;28;01melif\u001b[39;00m \u001b[38;5;129;01mnot\u001b[39;00m result\u001b[38;5;241m.\u001b[39msuccess:\n\u001b[1;32m   3007\u001b[0m     \u001b[38;5;28;01mbreak\u001b[39;00m\n",
      "File \u001b[0;32m~/ML/.venv/lib/python3.12/site-packages/IPython/core/interactiveshell.py:308\u001b[0m, in \u001b[0;36mExecutionResult.raise_error\u001b[0;34m(self)\u001b[0m\n\u001b[1;32m    306\u001b[0m     \u001b[38;5;28;01mraise\u001b[39;00m \u001b[38;5;28mself\u001b[39m\u001b[38;5;241m.\u001b[39merror_before_exec\n\u001b[1;32m    307\u001b[0m \u001b[38;5;28;01mif\u001b[39;00m \u001b[38;5;28mself\u001b[39m\u001b[38;5;241m.\u001b[39merror_in_exec \u001b[38;5;129;01mis\u001b[39;00m \u001b[38;5;129;01mnot\u001b[39;00m \u001b[38;5;28;01mNone\u001b[39;00m:\n\u001b[0;32m--> 308\u001b[0m     \u001b[38;5;28;01mraise\u001b[39;00m \u001b[38;5;28mself\u001b[39m\u001b[38;5;241m.\u001b[39merror_in_exec\n",
      "    \u001b[0;31m[... skipping hidden 1 frame]\u001b[0m\n",
      "File \u001b[0;32m/tmp/ipykernel_24367/4224575390.py:9\u001b[0m\n\u001b[1;32m      6\u001b[0m sns\u001b[38;5;241m.\u001b[39mset()\n\u001b[1;32m      7\u001b[0m \u001b[38;5;28;01mfrom\u001b[39;00m \u001b[38;5;21;01mdatetime\u001b[39;00m \u001b[38;5;28;01mimport\u001b[39;00m datetime\n\u001b[0;32m----> 9\u001b[0m \u001b[38;5;28;01mfrom\u001b[39;00m \u001b[38;5;21;01msklearn\u001b[39;00m\u001b[38;5;21;01m.\u001b[39;00m\u001b[38;5;21;01mmetrics\u001b[39;00m \u001b[38;5;28;01mimport\u001b[39;00m mean_squared_error\n\u001b[1;32m     10\u001b[0m \u001b[38;5;28;01mfrom\u001b[39;00m \u001b[38;5;21;01msklearn\u001b[39;00m\u001b[38;5;21;01m.\u001b[39;00m\u001b[38;5;21;01mmetrics\u001b[39;00m \u001b[38;5;28;01mimport\u001b[39;00m mean_absolute_percentage_error\n\u001b[1;32m     11\u001b[0m \u001b[38;5;28;01mfrom\u001b[39;00m \u001b[38;5;21;01msklearn\u001b[39;00m\u001b[38;5;21;01m.\u001b[39;00m\u001b[38;5;21;01mpreprocessing\u001b[39;00m \u001b[38;5;28;01mimport\u001b[39;00m MinMaxScaler\n",
      "\u001b[0;31mModuleNotFoundError\u001b[0m: No module named 'sklearn'"
     ]
    }
   ],
   "source": [
    "%run ./Prediction.ipynb"
   ]
  },
  {
   "cell_type": "markdown",
   "id": "9fc67071-406c-4b55-93de-534dd44d3710",
   "metadata": {},
   "source": [
    "### Load dataset and filter"
   ]
  },
  {
   "cell_type": "code",
   "execution_count": null,
   "id": "ae740c21-7f08-45b1-965e-74d3c95068d2",
   "metadata": {},
   "outputs": [],
   "source": [
    "# Read data from csv\n",
    "df = loadDataset()\n",
    "# Filter dataframe with selected symbols\n",
    "filterDataset(symbols, df)\n",
    "# Preprocess dataframe fields\n",
    "df, DATETIME = preprocess(df)"
   ]
  },
  {
   "cell_type": "markdown",
   "id": "26917009-be12-4247-bca2-0af2dc91eff0",
   "metadata": {},
   "source": [
    "### Train model and generate prediction"
   ]
  },
  {
   "cell_type": "code",
   "execution_count": null,
   "id": "72d0ff0c-dcad-472d-9b83-131bb68fb078",
   "metadata": {},
   "outputs": [],
   "source": [
    "# Input data\n",
    "trainingDateStart = '2019-06-26'\n",
    "predictionDateStart = '2024-05-15'\n",
    "predictionDateEnd = '2024-06-15'\n",
    "daysToPredict = 5\n",
    "\n",
    "# Generate prediction\n",
    "result = trainModel(trainingDateStart,predictionDateStart, predictionDateEnd, daysToPredict)"
   ]
  },
  {
   "cell_type": "markdown",
   "id": "2e8b03c4-2745-4e9b-9f63-799f67d74d08",
   "metadata": {},
   "source": [
    "## Result Analysis"
   ]
  },
  {
   "cell_type": "code",
   "execution_count": null,
   "id": "1539b076-1cda-42b5-b7df-fe182e99a624",
   "metadata": {},
   "outputs": [],
   "source": [
    "plotPrediction(result)"
   ]
  },
  {
   "cell_type": "markdown",
   "id": "dbf2ea48-520f-4112-b1c6-fe0147845c9c",
   "metadata": {},
   "source": [
    "## Metrics Analysis"
   ]
  },
  {
   "cell_type": "code",
   "execution_count": null,
   "id": "bb5fcec0-a1bb-48f7-ba75-43464724133f",
   "metadata": {},
   "outputs": [],
   "source": [
    "metrics_df = calculateMetrics(result)\n",
    "plotMetrics(metrics_df)"
   ]
  }
 ],
 "metadata": {
  "kernelspec": {
   "display_name": "Python 3 (ipykernel)",
   "language": "python",
   "name": "python3"
  },
  "language_info": {
   "codemirror_mode": {
    "name": "ipython",
    "version": 3
   },
   "file_extension": ".py",
   "mimetype": "text/x-python",
   "name": "python",
   "nbconvert_exporter": "python",
   "pygments_lexer": "ipython3",
   "version": "3.12.4"
  }
 },
 "nbformat": 4,
 "nbformat_minor": 5
}
